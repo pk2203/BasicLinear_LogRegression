{
 "cells": [
  {
   "cell_type": "code",
   "execution_count": 1,
   "id": "79c1b870",
   "metadata": {
    "_cell_guid": "b1076dfc-b9ad-4769-8c92-a6c4dae69d19",
    "_uuid": "8f2839f25d086af736a60e9eeb907d3b93b6e0e5",
    "execution": {
     "iopub.execute_input": "2021-09-02T05:45:44.085627Z",
     "iopub.status.busy": "2021-09-02T05:45:44.084851Z",
     "iopub.status.idle": "2021-09-02T05:45:44.128283Z",
     "shell.execute_reply": "2021-09-02T05:45:44.127599Z",
     "shell.execute_reply.started": "2021-09-02T05:25:04.730394Z"
    },
    "papermill": {
     "duration": 0.08606,
     "end_time": "2021-09-02T05:45:44.128465",
     "exception": false,
     "start_time": "2021-09-02T05:45:44.042405",
     "status": "completed"
    },
    "tags": []
   },
   "outputs": [
    {
     "name": "stdout",
     "output_type": "stream",
     "text": [
      "/kaggle/input/titaniclogreg/train.csv\n",
      "/kaggle/input/titaniclogreg/test.csv\n",
      "/kaggle/input/test-file/tested.csv\n",
      "/kaggle/input/titanic/train_and_test2.csv\n"
     ]
    }
   ],
   "source": [
    "# This Python 3 environment comes with many helpful analytics libraries installed\n",
    "# It is defined by the kaggle/python Docker image: https://github.com/kaggle/docker-python\n",
    "# For example, here's several helpful packages to load\n",
    "\n",
    "import numpy as np # linear algebra\n",
    "import pandas as pd # data processing, CSV file I/O (e.g. pd.read_csv)\n",
    "\n",
    "# Input data files are available in the read-only \"../input/\" directory\n",
    "# For example, running this (by clicking run or pressing Shift+Enter) will list all files under the input directory\n",
    "\n",
    "import os\n",
    "for dirname, _, filenames in os.walk('/kaggle/input'):\n",
    "    for filename in filenames:\n",
    "        print(os.path.join(dirname, filename))\n",
    "\n",
    "# You can write up to 20GB to the current directory (/kaggle/working/) that gets preserved as output when you create a version using \"Save & Run All\" \n",
    "# You can also write temporary files to /kaggle/temp/, but they won't be saved outside of the current session"
   ]
  },
  {
   "cell_type": "markdown",
   "id": "58731fd5",
   "metadata": {
    "papermill": {
     "duration": 0.027378,
     "end_time": "2021-09-02T05:45:44.184616",
     "exception": false,
     "start_time": "2021-09-02T05:45:44.157238",
     "status": "completed"
    },
    "tags": []
   },
   "source": [
    "# **Titanic LOg Reg Model**"
   ]
  },
  {
   "cell_type": "code",
   "execution_count": 2,
   "id": "2eb81dde",
   "metadata": {
    "execution": {
     "iopub.execute_input": "2021-09-02T05:45:44.245279Z",
     "iopub.status.busy": "2021-09-02T05:45:44.244627Z",
     "iopub.status.idle": "2021-09-02T05:46:01.794968Z",
     "shell.execute_reply": "2021-09-02T05:46:01.794405Z",
     "shell.execute_reply.started": "2021-09-02T05:25:04.762975Z"
    },
    "papermill": {
     "duration": 17.582518,
     "end_time": "2021-09-02T05:46:01.795119",
     "exception": false,
     "start_time": "2021-09-02T05:45:44.212601",
     "status": "completed"
    },
    "tags": []
   },
   "outputs": [
    {
     "name": "stdout",
     "output_type": "stream",
     "text": [
      "Requirement already satisfied: scikit-learn in /opt/conda/lib/python3.7/site-packages (0.23.2)\r\n",
      "Collecting scikit-learn\r\n",
      "  Downloading scikit_learn-0.24.2-cp37-cp37m-manylinux2010_x86_64.whl (22.3 MB)\r\n",
      "\u001b[K     |████████████████████████████████| 22.3 MB 155 kB/s \r\n",
      "\u001b[?25hRequirement already satisfied: threadpoolctl>=2.0.0 in /opt/conda/lib/python3.7/site-packages (from scikit-learn) (2.1.0)\r\n",
      "Requirement already satisfied: numpy>=1.13.3 in /opt/conda/lib/python3.7/site-packages (from scikit-learn) (1.19.5)\r\n",
      "Requirement already satisfied: scipy>=0.19.1 in /opt/conda/lib/python3.7/site-packages (from scikit-learn) (1.6.3)\r\n",
      "Requirement already satisfied: joblib>=0.11 in /opt/conda/lib/python3.7/site-packages (from scikit-learn) (1.0.1)\r\n",
      "Installing collected packages: scikit-learn\r\n",
      "  Attempting uninstall: scikit-learn\r\n",
      "    Found existing installation: scikit-learn 0.23.2\r\n",
      "    Uninstalling scikit-learn-0.23.2:\r\n",
      "      Successfully uninstalled scikit-learn-0.23.2\r\n",
      "\u001b[31mERROR: pip's dependency resolver does not currently take into account all the packages that are installed. This behaviour is the source of the following dependency conflicts.\r\n",
      "pyldavis 3.3.1 requires numpy>=1.20.0, but you have numpy 1.19.5 which is incompatible.\r\n",
      "pdpbox 0.2.1 requires matplotlib==3.1.1, but you have matplotlib 3.4.2 which is incompatible.\r\n",
      "hypertools 0.7.0 requires scikit-learn!=0.22,<0.24,>=0.19.1, but you have scikit-learn 0.24.2 which is incompatible.\u001b[0m\r\n",
      "Successfully installed scikit-learn-0.24.2\r\n",
      "\u001b[33mWARNING: Running pip as root will break packages and permissions. You should install packages reliably by using venv: https://pip.pypa.io/warnings/venv\u001b[0m\r\n",
      "Note: you may need to restart the kernel to use updated packages.\n"
     ]
    }
   ],
   "source": [
    "pip install -U scikit-learn"
   ]
  },
  {
   "cell_type": "code",
   "execution_count": 3,
   "id": "b9ec497f",
   "metadata": {
    "execution": {
     "iopub.execute_input": "2021-09-02T05:46:01.902263Z",
     "iopub.status.busy": "2021-09-02T05:46:01.901257Z",
     "iopub.status.idle": "2021-09-02T05:46:02.978615Z",
     "shell.execute_reply": "2021-09-02T05:46:02.979198Z",
     "shell.execute_reply.started": "2021-09-02T05:25:12.019547Z"
    },
    "papermill": {
     "duration": 1.134205,
     "end_time": "2021-09-02T05:46:02.979408",
     "exception": false,
     "start_time": "2021-09-02T05:46:01.845203",
     "status": "completed"
    },
    "tags": []
   },
   "outputs": [],
   "source": [
    "import numpy as np\n",
    "import pandas as pd\n",
    "import seaborn as sns\n",
    "import matplotlib.pyplot as plt\n",
    "%matplotlib inline"
   ]
  },
  {
   "cell_type": "code",
   "execution_count": 4,
   "id": "be1849b1",
   "metadata": {
    "execution": {
     "iopub.execute_input": "2021-09-02T05:46:03.087391Z",
     "iopub.status.busy": "2021-09-02T05:46:03.086285Z",
     "iopub.status.idle": "2021-09-02T05:46:03.128018Z",
     "shell.execute_reply": "2021-09-02T05:46:03.127306Z",
     "shell.execute_reply.started": "2021-09-02T05:25:13.003704Z"
    },
    "papermill": {
     "duration": 0.097784,
     "end_time": "2021-09-02T05:46:03.128163",
     "exception": false,
     "start_time": "2021-09-02T05:46:03.030379",
     "status": "completed"
    },
    "tags": []
   },
   "outputs": [],
   "source": [
    "x = pd.read_csv('../input/titaniclogreg/train.csv')\n",
    "x.head()\n",
    "y = pd.read_csv('../input/titaniclogreg/test.csv')"
   ]
  },
  {
   "cell_type": "code",
   "execution_count": 5,
   "id": "1b3be4a5",
   "metadata": {
    "execution": {
     "iopub.execute_input": "2021-09-02T05:46:03.235988Z",
     "iopub.status.busy": "2021-09-02T05:46:03.235296Z",
     "iopub.status.idle": "2021-09-02T05:46:03.276127Z",
     "shell.execute_reply": "2021-09-02T05:46:03.275456Z",
     "shell.execute_reply.started": "2021-09-02T05:25:13.034715Z"
    },
    "papermill": {
     "duration": 0.095059,
     "end_time": "2021-09-02T05:46:03.276265",
     "exception": false,
     "start_time": "2021-09-02T05:46:03.181206",
     "status": "completed"
    },
    "tags": []
   },
   "outputs": [
    {
     "data": {
      "text/html": [
       "<div>\n",
       "<style scoped>\n",
       "    .dataframe tbody tr th:only-of-type {\n",
       "        vertical-align: middle;\n",
       "    }\n",
       "\n",
       "    .dataframe tbody tr th {\n",
       "        vertical-align: top;\n",
       "    }\n",
       "\n",
       "    .dataframe thead th {\n",
       "        text-align: right;\n",
       "    }\n",
       "</style>\n",
       "<table border=\"1\" class=\"dataframe\">\n",
       "  <thead>\n",
       "    <tr style=\"text-align: right;\">\n",
       "      <th></th>\n",
       "      <th>PassengerId</th>\n",
       "      <th>Survived</th>\n",
       "      <th>Pclass</th>\n",
       "      <th>Name</th>\n",
       "      <th>Sex</th>\n",
       "      <th>Age</th>\n",
       "      <th>SibSp</th>\n",
       "      <th>Parch</th>\n",
       "      <th>Ticket</th>\n",
       "      <th>Fare</th>\n",
       "      <th>Cabin</th>\n",
       "      <th>Embarked</th>\n",
       "    </tr>\n",
       "  </thead>\n",
       "  <tbody>\n",
       "    <tr>\n",
       "      <th>0</th>\n",
       "      <td>False</td>\n",
       "      <td>False</td>\n",
       "      <td>False</td>\n",
       "      <td>False</td>\n",
       "      <td>False</td>\n",
       "      <td>False</td>\n",
       "      <td>False</td>\n",
       "      <td>False</td>\n",
       "      <td>False</td>\n",
       "      <td>False</td>\n",
       "      <td>True</td>\n",
       "      <td>False</td>\n",
       "    </tr>\n",
       "    <tr>\n",
       "      <th>1</th>\n",
       "      <td>False</td>\n",
       "      <td>False</td>\n",
       "      <td>False</td>\n",
       "      <td>False</td>\n",
       "      <td>False</td>\n",
       "      <td>False</td>\n",
       "      <td>False</td>\n",
       "      <td>False</td>\n",
       "      <td>False</td>\n",
       "      <td>False</td>\n",
       "      <td>False</td>\n",
       "      <td>False</td>\n",
       "    </tr>\n",
       "    <tr>\n",
       "      <th>2</th>\n",
       "      <td>False</td>\n",
       "      <td>False</td>\n",
       "      <td>False</td>\n",
       "      <td>False</td>\n",
       "      <td>False</td>\n",
       "      <td>False</td>\n",
       "      <td>False</td>\n",
       "      <td>False</td>\n",
       "      <td>False</td>\n",
       "      <td>False</td>\n",
       "      <td>True</td>\n",
       "      <td>False</td>\n",
       "    </tr>\n",
       "    <tr>\n",
       "      <th>3</th>\n",
       "      <td>False</td>\n",
       "      <td>False</td>\n",
       "      <td>False</td>\n",
       "      <td>False</td>\n",
       "      <td>False</td>\n",
       "      <td>False</td>\n",
       "      <td>False</td>\n",
       "      <td>False</td>\n",
       "      <td>False</td>\n",
       "      <td>False</td>\n",
       "      <td>False</td>\n",
       "      <td>False</td>\n",
       "    </tr>\n",
       "    <tr>\n",
       "      <th>4</th>\n",
       "      <td>False</td>\n",
       "      <td>False</td>\n",
       "      <td>False</td>\n",
       "      <td>False</td>\n",
       "      <td>False</td>\n",
       "      <td>False</td>\n",
       "      <td>False</td>\n",
       "      <td>False</td>\n",
       "      <td>False</td>\n",
       "      <td>False</td>\n",
       "      <td>True</td>\n",
       "      <td>False</td>\n",
       "    </tr>\n",
       "    <tr>\n",
       "      <th>...</th>\n",
       "      <td>...</td>\n",
       "      <td>...</td>\n",
       "      <td>...</td>\n",
       "      <td>...</td>\n",
       "      <td>...</td>\n",
       "      <td>...</td>\n",
       "      <td>...</td>\n",
       "      <td>...</td>\n",
       "      <td>...</td>\n",
       "      <td>...</td>\n",
       "      <td>...</td>\n",
       "      <td>...</td>\n",
       "    </tr>\n",
       "    <tr>\n",
       "      <th>886</th>\n",
       "      <td>False</td>\n",
       "      <td>False</td>\n",
       "      <td>False</td>\n",
       "      <td>False</td>\n",
       "      <td>False</td>\n",
       "      <td>False</td>\n",
       "      <td>False</td>\n",
       "      <td>False</td>\n",
       "      <td>False</td>\n",
       "      <td>False</td>\n",
       "      <td>True</td>\n",
       "      <td>False</td>\n",
       "    </tr>\n",
       "    <tr>\n",
       "      <th>887</th>\n",
       "      <td>False</td>\n",
       "      <td>False</td>\n",
       "      <td>False</td>\n",
       "      <td>False</td>\n",
       "      <td>False</td>\n",
       "      <td>False</td>\n",
       "      <td>False</td>\n",
       "      <td>False</td>\n",
       "      <td>False</td>\n",
       "      <td>False</td>\n",
       "      <td>False</td>\n",
       "      <td>False</td>\n",
       "    </tr>\n",
       "    <tr>\n",
       "      <th>888</th>\n",
       "      <td>False</td>\n",
       "      <td>False</td>\n",
       "      <td>False</td>\n",
       "      <td>False</td>\n",
       "      <td>False</td>\n",
       "      <td>True</td>\n",
       "      <td>False</td>\n",
       "      <td>False</td>\n",
       "      <td>False</td>\n",
       "      <td>False</td>\n",
       "      <td>True</td>\n",
       "      <td>False</td>\n",
       "    </tr>\n",
       "    <tr>\n",
       "      <th>889</th>\n",
       "      <td>False</td>\n",
       "      <td>False</td>\n",
       "      <td>False</td>\n",
       "      <td>False</td>\n",
       "      <td>False</td>\n",
       "      <td>False</td>\n",
       "      <td>False</td>\n",
       "      <td>False</td>\n",
       "      <td>False</td>\n",
       "      <td>False</td>\n",
       "      <td>False</td>\n",
       "      <td>False</td>\n",
       "    </tr>\n",
       "    <tr>\n",
       "      <th>890</th>\n",
       "      <td>False</td>\n",
       "      <td>False</td>\n",
       "      <td>False</td>\n",
       "      <td>False</td>\n",
       "      <td>False</td>\n",
       "      <td>False</td>\n",
       "      <td>False</td>\n",
       "      <td>False</td>\n",
       "      <td>False</td>\n",
       "      <td>False</td>\n",
       "      <td>True</td>\n",
       "      <td>False</td>\n",
       "    </tr>\n",
       "  </tbody>\n",
       "</table>\n",
       "<p>891 rows × 12 columns</p>\n",
       "</div>"
      ],
      "text/plain": [
       "     PassengerId  Survived  Pclass   Name    Sex    Age  SibSp  Parch  Ticket  \\\n",
       "0          False     False   False  False  False  False  False  False   False   \n",
       "1          False     False   False  False  False  False  False  False   False   \n",
       "2          False     False   False  False  False  False  False  False   False   \n",
       "3          False     False   False  False  False  False  False  False   False   \n",
       "4          False     False   False  False  False  False  False  False   False   \n",
       "..           ...       ...     ...    ...    ...    ...    ...    ...     ...   \n",
       "886        False     False   False  False  False  False  False  False   False   \n",
       "887        False     False   False  False  False  False  False  False   False   \n",
       "888        False     False   False  False  False   True  False  False   False   \n",
       "889        False     False   False  False  False  False  False  False   False   \n",
       "890        False     False   False  False  False  False  False  False   False   \n",
       "\n",
       "      Fare  Cabin  Embarked  \n",
       "0    False   True     False  \n",
       "1    False  False     False  \n",
       "2    False   True     False  \n",
       "3    False  False     False  \n",
       "4    False   True     False  \n",
       "..     ...    ...       ...  \n",
       "886  False   True     False  \n",
       "887  False  False     False  \n",
       "888  False   True     False  \n",
       "889  False  False     False  \n",
       "890  False   True     False  \n",
       "\n",
       "[891 rows x 12 columns]"
      ]
     },
     "execution_count": 5,
     "metadata": {},
     "output_type": "execute_result"
    }
   ],
   "source": [
    "x.isnull() #because many data are missing"
   ]
  },
  {
   "cell_type": "markdown",
   "id": "74963421",
   "metadata": {
    "papermill": {
     "duration": 0.049871,
     "end_time": "2021-09-02T05:46:03.377760",
     "exception": false,
     "start_time": "2021-09-02T05:46:03.327889",
     "status": "completed"
    },
    "tags": []
   },
   "source": [
    "# **EDA**"
   ]
  },
  {
   "cell_type": "code",
   "execution_count": 6,
   "id": "3d6940b5",
   "metadata": {
    "execution": {
     "iopub.execute_input": "2021-09-02T05:46:03.486244Z",
     "iopub.status.busy": "2021-09-02T05:46:03.485240Z",
     "iopub.status.idle": "2021-09-02T05:46:03.737782Z",
     "shell.execute_reply": "2021-09-02T05:46:03.737230Z",
     "shell.execute_reply.started": "2021-09-02T05:25:13.072804Z"
    },
    "papermill": {
     "duration": 0.310161,
     "end_time": "2021-09-02T05:46:03.737925",
     "exception": false,
     "start_time": "2021-09-02T05:46:03.427764",
     "status": "completed"
    },
    "tags": []
   },
   "outputs": [
    {
     "data": {
      "text/plain": [
       "<AxesSubplot:>"
      ]
     },
     "execution_count": 6,
     "metadata": {},
     "output_type": "execute_result"
    },
    {
     "data": {
      "image/png": "[encoded data removed]",
      "text/plain": [
       "<Figure size 432x288 with 1 Axes>"
      ]
     },
     "metadata": {
      "needs_background": "light"
     },
     "output_type": "display_data"
    }
   ],
   "source": [
    "sns.heatmap(x.isnull(),yticklabels = False,cbar = False, cmap='viridis')"
   ]
  },
  {
   "cell_type": "code",
   "execution_count": 7,
   "id": "fa511963",
   "metadata": {
    "execution": {
     "iopub.execute_input": "2021-09-02T05:46:03.850033Z",
     "iopub.status.busy": "2021-09-02T05:46:03.849344Z",
     "iopub.status.idle": "2021-09-02T05:46:03.994353Z",
     "shell.execute_reply": "2021-09-02T05:46:03.994919Z",
     "shell.execute_reply.started": "2021-09-02T05:25:13.322417Z"
    },
    "papermill": {
     "duration": 0.204647,
     "end_time": "2021-09-02T05:46:03.995091",
     "exception": false,
     "start_time": "2021-09-02T05:46:03.790444",
     "status": "completed"
    },
    "tags": []
   },
   "outputs": [
    {
     "data": {
      "text/plain": [
       "<AxesSubplot:xlabel='Survived', ylabel='count'>"
      ]
     },
     "execution_count": 7,
     "metadata": {},
     "output_type": "execute_result"
    },
    {
     "data": {
      "image/png": "[encoded data removed]",
      "text/plain": [
       "<Figure size 432x288 with 1 Axes>"
      ]
     },
     "metadata": {},
     "output_type": "display_data"
    }
   ],
   "source": [
    "sns.set_style('whitegrid')\n",
    "sns.countplot(x='Survived',data=x,palette='RdBu_r')"
   ]
  },
  {
   "cell_type": "code",
   "execution_count": 8,
   "id": "ae1a6883",
   "metadata": {
    "execution": {
     "iopub.execute_input": "2021-09-02T05:46:04.107440Z",
     "iopub.status.busy": "2021-09-02T05:46:04.106446Z",
     "iopub.status.idle": "2021-09-02T05:46:04.286468Z",
     "shell.execute_reply": "2021-09-02T05:46:04.287048Z",
     "shell.execute_reply.started": "2021-09-02T05:25:13.468209Z"
    },
    "papermill": {
     "duration": 0.239185,
     "end_time": "2021-09-02T05:46:04.287217",
     "exception": false,
     "start_time": "2021-09-02T05:46:04.048032",
     "status": "completed"
    },
    "tags": []
   },
   "outputs": [
    {
     "data": {
      "text/plain": [
       "<AxesSubplot:xlabel='Survived', ylabel='count'>"
      ]
     },
     "execution_count": 8,
     "metadata": {},
     "output_type": "execute_result"
    },
    {
     "data": {
      "image/png": "[encoded data removed]",
      "text/plain": [
       "<Figure size 432x288 with 1 Axes>"
      ]
     },
     "metadata": {},
     "output_type": "display_data"
    }
   ],
   "source": [
    "#To differentiate between men and women\n",
    "sns.set_style('whitegrid')\n",
    "sns.countplot(x = 'Survived', data = x, hue = 'Sex', palette = 'RdBu_r')"
   ]
  },
  {
   "cell_type": "code",
   "execution_count": 9,
   "id": "8b076840",
   "metadata": {
    "execution": {
     "iopub.execute_input": "2021-09-02T05:46:04.399017Z",
     "iopub.status.busy": "2021-09-02T05:46:04.397774Z",
     "iopub.status.idle": "2021-09-02T05:46:04.624841Z",
     "shell.execute_reply": "2021-09-02T05:46:04.625306Z",
     "shell.execute_reply.started": "2021-09-02T05:25:13.643364Z"
    },
    "papermill": {
     "duration": 0.285257,
     "end_time": "2021-09-02T05:46:04.625481",
     "exception": false,
     "start_time": "2021-09-02T05:46:04.340224",
     "status": "completed"
    },
    "tags": []
   },
   "outputs": [
    {
     "data": {
      "text/plain": [
       "<AxesSubplot:xlabel='Survived', ylabel='count'>"
      ]
     },
     "execution_count": 9,
     "metadata": {},
     "output_type": "execute_result"
    },
    {
     "data": {
      "image/png": "[encoded data removed]",
      "text/plain": [
       "<Figure size 432x288 with 1 Axes>"
      ]
     },
     "metadata": {},
     "output_type": "display_data"
    }
   ],
   "source": [
    "sns.set_style('whitegrid')\n",
    "sns.countplot(x = 'Survived', data = x, hue = 'Pclass', palette = 'RdBu_r')"
   ]
  },
  {
   "cell_type": "code",
   "execution_count": 10,
   "id": "29e6d452",
   "metadata": {
    "execution": {
     "iopub.execute_input": "2021-09-02T05:46:04.736553Z",
     "iopub.status.busy": "2021-09-02T05:46:04.735481Z",
     "iopub.status.idle": "2021-09-02T05:46:05.057105Z",
     "shell.execute_reply": "2021-09-02T05:46:05.056560Z",
     "shell.execute_reply.started": "2021-09-02T05:25:13.856531Z"
    },
    "papermill": {
     "duration": 0.378321,
     "end_time": "2021-09-02T05:46:05.057237",
     "exception": false,
     "start_time": "2021-09-02T05:46:04.678916",
     "status": "completed"
    },
    "tags": []
   },
   "outputs": [
    {
     "name": "stderr",
     "output_type": "stream",
     "text": [
      "/opt/conda/lib/python3.7/site-packages/seaborn/distributions.py:2557: FutureWarning: `distplot` is a deprecated function and will be removed in a future version. Please adapt your code to use either `displot` (a figure-level function with similar flexibility) or `histplot` (an axes-level function for histograms).\n",
      "  warnings.warn(msg, FutureWarning)\n"
     ]
    },
    {
     "data": {
      "text/plain": [
       "<AxesSubplot:xlabel='Age'>"
      ]
     },
     "execution_count": 10,
     "metadata": {},
     "output_type": "execute_result"
    },
    {
     "data": {
      "image/png": "[encoded data removed]",
      "text/plain": [
       "<Figure size 432x288 with 1 Axes>"
      ]
     },
     "metadata": {},
     "output_type": "display_data"
    }
   ],
   "source": [
    "sns.distplot(x['Age'].dropna(), kde = False, bins = 30)"
   ]
  },
  {
   "cell_type": "code",
   "execution_count": 11,
   "id": "5d624d3e",
   "metadata": {
    "execution": {
     "iopub.execute_input": "2021-09-02T05:46:05.178180Z",
     "iopub.status.busy": "2021-09-02T05:46:05.177069Z",
     "iopub.status.idle": "2021-09-02T05:46:05.385749Z",
     "shell.execute_reply": "2021-09-02T05:46:05.385155Z",
     "shell.execute_reply.started": "2021-09-02T05:25:14.172364Z"
    },
    "papermill": {
     "duration": 0.271373,
     "end_time": "2021-09-02T05:46:05.385895",
     "exception": false,
     "start_time": "2021-09-02T05:46:05.114522",
     "status": "completed"
    },
    "tags": []
   },
   "outputs": [
    {
     "data": {
      "text/plain": [
       "<AxesSubplot:xlabel='SibSp', ylabel='count'>"
      ]
     },
     "execution_count": 11,
     "metadata": {},
     "output_type": "execute_result"
    },
    {
     "data": {
      "image/png": "[encoded data removed]",
      "text/plain": [
       "<Figure size 432x288 with 1 Axes>"
      ]
     },
     "metadata": {},
     "output_type": "display_data"
    }
   ],
   "source": [
    "sns.countplot(x = 'SibSp', data = x)"
   ]
  },
  {
   "cell_type": "code",
   "execution_count": 12,
   "id": "efbddc0e",
   "metadata": {
    "execution": {
     "iopub.execute_input": "2021-09-02T05:46:05.505021Z",
     "iopub.status.busy": "2021-09-02T05:46:05.504223Z",
     "iopub.status.idle": "2021-09-02T05:46:05.788078Z",
     "shell.execute_reply": "2021-09-02T05:46:05.788628Z",
     "shell.execute_reply.started": "2021-09-02T05:25:14.385900Z"
    },
    "papermill": {
     "duration": 0.345463,
     "end_time": "2021-09-02T05:46:05.788805",
     "exception": false,
     "start_time": "2021-09-02T05:46:05.443342",
     "status": "completed"
    },
    "tags": []
   },
   "outputs": [
    {
     "data": {
      "text/plain": [
       "<AxesSubplot:>"
      ]
     },
     "execution_count": 12,
     "metadata": {},
     "output_type": "execute_result"
    },
    {
     "data": {
      "image/png": "[encoded data removed]",
      "text/plain": [
       "<Figure size 432x288 with 1 Axes>"
      ]
     },
     "metadata": {},
     "output_type": "display_data"
    }
   ],
   "source": [
    "x['Fare'].hist(bins = 30)"
   ]
  },
  {
   "cell_type": "markdown",
   "id": "f0e45609",
   "metadata": {
    "papermill": {
     "duration": 0.060637,
     "end_time": "2021-09-02T05:46:05.907915",
     "exception": false,
     "start_time": "2021-09-02T05:46:05.847278",
     "status": "completed"
    },
    "tags": []
   },
   "source": [
    "# **Data Cleaning**"
   ]
  },
  {
   "cell_type": "markdown",
   "id": "ecfd3a58",
   "metadata": {
    "papermill": {
     "duration": 0.057069,
     "end_time": "2021-09-02T05:46:06.022974",
     "exception": false,
     "start_time": "2021-09-02T05:46:05.965905",
     "status": "completed"
    },
    "tags": []
   },
   "source": [
    "To fill in missing age data instead of just dropping the missing age data rows. One way to do this is by filling in the mean age of all the passengers (imputation). "
   ]
  },
  {
   "cell_type": "code",
   "execution_count": 13,
   "id": "aa5d0beb",
   "metadata": {
    "execution": {
     "iopub.execute_input": "2021-09-02T05:46:06.146298Z",
     "iopub.status.busy": "2021-09-02T05:46:06.145232Z",
     "iopub.status.idle": "2021-09-02T05:46:06.154606Z",
     "shell.execute_reply": "2021-09-02T05:46:06.153954Z",
     "shell.execute_reply.started": "2021-09-02T05:25:14.660247Z"
    },
    "papermill": {
     "duration": 0.07428,
     "end_time": "2021-09-02T05:46:06.154749",
     "exception": false,
     "start_time": "2021-09-02T05:46:06.080469",
     "status": "completed"
    },
    "tags": []
   },
   "outputs": [
    {
     "data": {
      "text/plain": [
       "Pclass\n",
       "1    38.233441\n",
       "2    29.877630\n",
       "3    25.140620\n",
       "Name: Age, dtype: float64"
      ]
     },
     "execution_count": 13,
     "metadata": {},
     "output_type": "execute_result"
    }
   ],
   "source": [
    "#To obtain the average age of people from each class\n",
    "x.groupby('Pclass').mean()['Age']"
   ]
  },
  {
   "cell_type": "code",
   "execution_count": 14,
   "id": "7dd0a247",
   "metadata": {
    "execution": {
     "iopub.execute_input": "2021-09-02T05:46:06.277207Z",
     "iopub.status.busy": "2021-09-02T05:46:06.276147Z",
     "iopub.status.idle": "2021-09-02T05:46:06.280793Z",
     "shell.execute_reply": "2021-09-02T05:46:06.280121Z",
     "shell.execute_reply.started": "2021-09-02T05:25:14.675479Z"
    },
    "papermill": {
     "duration": 0.06837,
     "end_time": "2021-09-02T05:46:06.280936",
     "exception": false,
     "start_time": "2021-09-02T05:46:06.212566",
     "status": "completed"
    },
    "tags": []
   },
   "outputs": [
    {
     "data": {
      "text/plain": [
       "nan"
      ]
     },
     "execution_count": 14,
     "metadata": {},
     "output_type": "execute_result"
    }
   ],
   "source": [
    "x['Age'][5]"
   ]
  },
  {
   "cell_type": "code",
   "execution_count": 15,
   "id": "eb6e823a",
   "metadata": {
    "execution": {
     "iopub.execute_input": "2021-09-02T05:46:06.405093Z",
     "iopub.status.busy": "2021-09-02T05:46:06.404062Z",
     "iopub.status.idle": "2021-09-02T05:46:06.595013Z",
     "shell.execute_reply": "2021-09-02T05:46:06.595651Z",
     "shell.execute_reply.started": "2021-09-02T05:25:14.683412Z"
    },
    "papermill": {
     "duration": 0.257196,
     "end_time": "2021-09-02T05:46:06.595828",
     "exception": false,
     "start_time": "2021-09-02T05:46:06.338632",
     "status": "completed"
    },
    "tags": []
   },
   "outputs": [],
   "source": [
    "def add_age(x):\n",
    "    if x.isnull()[0]:\n",
    "         if x[1] == 1:\n",
    "            return 38\n",
    "         elif x[1] == 2:\n",
    "            return 29\n",
    "         else :\n",
    "            return 25\n",
    "    else:\n",
    "        return x[0]\n",
    "x['Age'] = x[['Age', 'Pclass']].apply(add_age, axis = 1)   "
   ]
  },
  {
   "cell_type": "code",
   "execution_count": 16,
   "id": "0f049c33",
   "metadata": {
    "execution": {
     "iopub.execute_input": "2021-09-02T05:46:06.716005Z",
     "iopub.status.busy": "2021-09-02T05:46:06.715014Z",
     "iopub.status.idle": "2021-09-02T05:46:07.091766Z",
     "shell.execute_reply": "2021-09-02T05:46:07.090915Z",
     "shell.execute_reply.started": "2021-09-02T05:25:14.887061Z"
    },
    "papermill": {
     "duration": 0.43738,
     "end_time": "2021-09-02T05:46:07.091978",
     "exception": false,
     "start_time": "2021-09-02T05:46:06.654598",
     "status": "completed"
    },
    "tags": []
   },
   "outputs": [
    {
     "data": {
      "text/plain": [
       "<AxesSubplot:>"
      ]
     },
     "execution_count": 16,
     "metadata": {},
     "output_type": "execute_result"
    },
    {
     "data": {
      "image/png": "[encoded data removed]",
      "text/plain": [
       "<Figure size 432x288 with 2 Axes>"
      ]
     },
     "metadata": {},
     "output_type": "display_data"
    }
   ],
   "source": [
    "sns.heatmap(x.isnull(),yticklabels = False, cmap='viridis')"
   ]
  },
  {
   "cell_type": "code",
   "execution_count": 17,
   "id": "e35f171d",
   "metadata": {
    "execution": {
     "iopub.execute_input": "2021-09-02T05:46:07.223162Z",
     "iopub.status.busy": "2021-09-02T05:46:07.222164Z",
     "iopub.status.idle": "2021-09-02T05:46:07.224993Z",
     "shell.execute_reply": "2021-09-02T05:46:07.225433Z",
     "shell.execute_reply.started": "2021-09-02T05:25:15.261626Z"
    },
    "papermill": {
     "duration": 0.070227,
     "end_time": "2021-09-02T05:46:07.225625",
     "exception": false,
     "start_time": "2021-09-02T05:46:07.155398",
     "status": "completed"
    },
    "tags": []
   },
   "outputs": [],
   "source": [
    "x.drop('Cabin', axis = 1, inplace = True)"
   ]
  },
  {
   "cell_type": "code",
   "execution_count": 18,
   "id": "cc01e1ea",
   "metadata": {
    "execution": {
     "iopub.execute_input": "2021-09-02T05:46:07.355230Z",
     "iopub.status.busy": "2021-09-02T05:46:07.354377Z",
     "iopub.status.idle": "2021-09-02T05:46:07.364761Z",
     "shell.execute_reply": "2021-09-02T05:46:07.364064Z",
     "shell.execute_reply.started": "2021-09-02T05:25:15.268872Z"
    },
    "papermill": {
     "duration": 0.079115,
     "end_time": "2021-09-02T05:46:07.364914",
     "exception": false,
     "start_time": "2021-09-02T05:46:07.285799",
     "status": "completed"
    },
    "tags": []
   },
   "outputs": [
    {
     "data": {
      "text/html": [
       "<div>\n",
       "<style scoped>\n",
       "    .dataframe tbody tr th:only-of-type {\n",
       "        vertical-align: middle;\n",
       "    }\n",
       "\n",
       "    .dataframe tbody tr th {\n",
       "        vertical-align: top;\n",
       "    }\n",
       "\n",
       "    .dataframe thead th {\n",
       "        text-align: right;\n",
       "    }\n",
       "</style>\n",
       "<table border=\"1\" class=\"dataframe\">\n",
       "  <thead>\n",
       "    <tr style=\"text-align: right;\">\n",
       "      <th></th>\n",
       "      <th>PassengerId</th>\n",
       "      <th>Survived</th>\n",
       "      <th>Pclass</th>\n",
       "      <th>Name</th>\n",
       "      <th>Sex</th>\n",
       "      <th>Age</th>\n",
       "      <th>SibSp</th>\n",
       "      <th>Parch</th>\n",
       "      <th>Ticket</th>\n",
       "      <th>Fare</th>\n",
       "      <th>Embarked</th>\n",
       "    </tr>\n",
       "  </thead>\n",
       "  <tbody>\n",
       "    <tr>\n",
       "      <th>0</th>\n",
       "      <td>1</td>\n",
       "      <td>0</td>\n",
       "      <td>3</td>\n",
       "      <td>Braund, Mr. Owen Harris</td>\n",
       "      <td>male</td>\n",
       "      <td>22.0</td>\n",
       "      <td>1</td>\n",
       "      <td>0</td>\n",
       "      <td>A/5 21171</td>\n",
       "      <td>7.2500</td>\n",
       "      <td>S</td>\n",
       "    </tr>\n",
       "    <tr>\n",
       "      <th>1</th>\n",
       "      <td>2</td>\n",
       "      <td>1</td>\n",
       "      <td>1</td>\n",
       "      <td>Cumings, Mrs. John Bradley (Florence Briggs Th...</td>\n",
       "      <td>female</td>\n",
       "      <td>38.0</td>\n",
       "      <td>1</td>\n",
       "      <td>0</td>\n",
       "      <td>PC 17599</td>\n",
       "      <td>71.2833</td>\n",
       "      <td>C</td>\n",
       "    </tr>\n",
       "    <tr>\n",
       "      <th>2</th>\n",
       "      <td>3</td>\n",
       "      <td>1</td>\n",
       "      <td>3</td>\n",
       "      <td>Heikkinen, Miss. Laina</td>\n",
       "      <td>female</td>\n",
       "      <td>26.0</td>\n",
       "      <td>0</td>\n",
       "      <td>0</td>\n",
       "      <td>STON/O2. 3101282</td>\n",
       "      <td>7.9250</td>\n",
       "      <td>S</td>\n",
       "    </tr>\n",
       "    <tr>\n",
       "      <th>3</th>\n",
       "      <td>4</td>\n",
       "      <td>1</td>\n",
       "      <td>1</td>\n",
       "      <td>Futrelle, Mrs. Jacques Heath (Lily May Peel)</td>\n",
       "      <td>female</td>\n",
       "      <td>35.0</td>\n",
       "      <td>1</td>\n",
       "      <td>0</td>\n",
       "      <td>113803</td>\n",
       "      <td>53.1000</td>\n",
       "      <td>S</td>\n",
       "    </tr>\n",
       "    <tr>\n",
       "      <th>4</th>\n",
       "      <td>5</td>\n",
       "      <td>0</td>\n",
       "      <td>3</td>\n",
       "      <td>Allen, Mr. William Henry</td>\n",
       "      <td>male</td>\n",
       "      <td>35.0</td>\n",
       "      <td>0</td>\n",
       "      <td>0</td>\n",
       "      <td>373450</td>\n",
       "      <td>8.0500</td>\n",
       "      <td>S</td>\n",
       "    </tr>\n",
       "  </tbody>\n",
       "</table>\n",
       "</div>"
      ],
      "text/plain": [
       "   PassengerId  Survived  Pclass  \\\n",
       "0            1         0       3   \n",
       "1            2         1       1   \n",
       "2            3         1       3   \n",
       "3            4         1       1   \n",
       "4            5         0       3   \n",
       "\n",
       "                                                Name     Sex   Age  SibSp  \\\n",
       "0                            Braund, Mr. Owen Harris    male  22.0      1   \n",
       "1  Cumings, Mrs. John Bradley (Florence Briggs Th...  female  38.0      1   \n",
       "2                             Heikkinen, Miss. Laina  female  26.0      0   \n",
       "3       Futrelle, Mrs. Jacques Heath (Lily May Peel)  female  35.0      1   \n",
       "4                           Allen, Mr. William Henry    male  35.0      0   \n",
       "\n",
       "   Parch            Ticket     Fare Embarked  \n",
       "0      0         A/5 21171   7.2500        S  \n",
       "1      0          PC 17599  71.2833        C  \n",
       "2      0  STON/O2. 3101282   7.9250        S  \n",
       "3      0            113803  53.1000        S  \n",
       "4      0            373450   8.0500        S  "
      ]
     },
     "execution_count": 18,
     "metadata": {},
     "output_type": "execute_result"
    }
   ],
   "source": [
    "x.head()"
   ]
  },
  {
   "cell_type": "markdown",
   "id": "b89cfc9c",
   "metadata": {
    "papermill": {
     "duration": 0.059551,
     "end_time": "2021-09-02T05:46:07.485156",
     "exception": false,
     "start_time": "2021-09-02T05:46:07.425605",
     "status": "completed"
    },
    "tags": []
   },
   "source": [
    "## **Cateogrical Features**"
   ]
  },
  {
   "cell_type": "code",
   "execution_count": 19,
   "id": "a5c2c394",
   "metadata": {
    "execution": {
     "iopub.execute_input": "2021-09-02T05:46:07.611380Z",
     "iopub.status.busy": "2021-09-02T05:46:07.610762Z",
     "iopub.status.idle": "2021-09-02T05:46:07.628445Z",
     "shell.execute_reply": "2021-09-02T05:46:07.629133Z",
     "shell.execute_reply.started": "2021-09-02T05:25:15.294426Z"
    },
    "papermill": {
     "duration": 0.082741,
     "end_time": "2021-09-02T05:46:07.629385",
     "exception": false,
     "start_time": "2021-09-02T05:46:07.546644",
     "status": "completed"
    },
    "tags": []
   },
   "outputs": [
    {
     "name": "stdout",
     "output_type": "stream",
     "text": [
      "<class 'pandas.core.frame.DataFrame'>\n",
      "RangeIndex: 891 entries, 0 to 890\n",
      "Data columns (total 11 columns):\n",
      " #   Column       Non-Null Count  Dtype  \n",
      "---  ------       --------------  -----  \n",
      " 0   PassengerId  891 non-null    int64  \n",
      " 1   Survived     891 non-null    int64  \n",
      " 2   Pclass       891 non-null    int64  \n",
      " 3   Name         891 non-null    object \n",
      " 4   Sex          891 non-null    object \n",
      " 5   Age          891 non-null    float64\n",
      " 6   SibSp        891 non-null    int64  \n",
      " 7   Parch        891 non-null    int64  \n",
      " 8   Ticket       891 non-null    object \n",
      " 9   Fare         891 non-null    float64\n",
      " 10  Embarked     889 non-null    object \n",
      "dtypes: float64(2), int64(5), object(4)\n",
      "memory usage: 76.7+ KB\n"
     ]
    }
   ],
   "source": [
    "x.info()"
   ]
  },
  {
   "cell_type": "code",
   "execution_count": 20,
   "id": "25a7373d",
   "metadata": {
    "execution": {
     "iopub.execute_input": "2021-09-02T05:46:07.757217Z",
     "iopub.status.busy": "2021-09-02T05:46:07.756591Z",
     "iopub.status.idle": "2021-09-02T05:46:07.762052Z",
     "shell.execute_reply": "2021-09-02T05:46:07.761474Z",
     "shell.execute_reply.started": "2021-09-02T05:25:15.313424Z"
    },
    "papermill": {
     "duration": 0.071654,
     "end_time": "2021-09-02T05:46:07.762197",
     "exception": false,
     "start_time": "2021-09-02T05:46:07.690543",
     "status": "completed"
    },
    "tags": []
   },
   "outputs": [],
   "source": [
    "sex = pd.get_dummies(x['Sex'], drop_first = True)"
   ]
  },
  {
   "cell_type": "code",
   "execution_count": 21,
   "id": "7f48fd50",
   "metadata": {
    "execution": {
     "iopub.execute_input": "2021-09-02T05:46:07.892217Z",
     "iopub.status.busy": "2021-09-02T05:46:07.891453Z",
     "iopub.status.idle": "2021-09-02T05:46:07.895076Z",
     "shell.execute_reply": "2021-09-02T05:46:07.894413Z",
     "shell.execute_reply.started": "2021-09-02T05:25:15.326482Z"
    },
    "papermill": {
     "duration": 0.071073,
     "end_time": "2021-09-02T05:46:07.895236",
     "exception": false,
     "start_time": "2021-09-02T05:46:07.824163",
     "status": "completed"
    },
    "tags": []
   },
   "outputs": [],
   "source": [
    "embark = pd.get_dummies(x['Embarked'], drop_first = True)"
   ]
  },
  {
   "cell_type": "code",
   "execution_count": 22,
   "id": "2db9abf2",
   "metadata": {
    "execution": {
     "iopub.execute_input": "2021-09-02T05:46:08.024146Z",
     "iopub.status.busy": "2021-09-02T05:46:08.023088Z",
     "iopub.status.idle": "2021-09-02T05:46:08.026373Z",
     "shell.execute_reply": "2021-09-02T05:46:08.026843Z",
     "shell.execute_reply.started": "2021-09-02T05:25:15.336933Z"
    },
    "papermill": {
     "duration": 0.071238,
     "end_time": "2021-09-02T05:46:08.027019",
     "exception": false,
     "start_time": "2021-09-02T05:46:07.955781",
     "status": "completed"
    },
    "tags": []
   },
   "outputs": [],
   "source": [
    "x.drop(['Sex','Embarked','Name','Ticket'], axis = 1, inplace = True)"
   ]
  },
  {
   "cell_type": "code",
   "execution_count": 23,
   "id": "674be51e",
   "metadata": {
    "execution": {
     "iopub.execute_input": "2021-09-02T05:46:08.157229Z",
     "iopub.status.busy": "2021-09-02T05:46:08.156326Z",
     "iopub.status.idle": "2021-09-02T05:46:08.159933Z",
     "shell.execute_reply": "2021-09-02T05:46:08.160414Z",
     "shell.execute_reply.started": "2021-09-02T05:25:15.351478Z"
    },
    "papermill": {
     "duration": 0.073421,
     "end_time": "2021-09-02T05:46:08.160619",
     "exception": false,
     "start_time": "2021-09-02T05:46:08.087198",
     "status": "completed"
    },
    "tags": []
   },
   "outputs": [],
   "source": [
    "x = pd.concat([x, sex,embark], axis = 1)"
   ]
  },
  {
   "cell_type": "code",
   "execution_count": 24,
   "id": "83095baf",
   "metadata": {
    "execution": {
     "iopub.execute_input": "2021-09-02T05:46:08.300234Z",
     "iopub.status.busy": "2021-09-02T05:46:08.299476Z",
     "iopub.status.idle": "2021-09-02T05:46:08.303323Z",
     "shell.execute_reply": "2021-09-02T05:46:08.302779Z",
     "shell.execute_reply.started": "2021-09-02T05:25:15.361009Z"
    },
    "papermill": {
     "duration": 0.078611,
     "end_time": "2021-09-02T05:46:08.303459",
     "exception": false,
     "start_time": "2021-09-02T05:46:08.224848",
     "status": "completed"
    },
    "tags": []
   },
   "outputs": [
    {
     "data": {
      "text/html": [
       "<div>\n",
       "<style scoped>\n",
       "    .dataframe tbody tr th:only-of-type {\n",
       "        vertical-align: middle;\n",
       "    }\n",
       "\n",
       "    .dataframe tbody tr th {\n",
       "        vertical-align: top;\n",
       "    }\n",
       "\n",
       "    .dataframe thead th {\n",
       "        text-align: right;\n",
       "    }\n",
       "</style>\n",
       "<table border=\"1\" class=\"dataframe\">\n",
       "  <thead>\n",
       "    <tr style=\"text-align: right;\">\n",
       "      <th></th>\n",
       "      <th>PassengerId</th>\n",
       "      <th>Survived</th>\n",
       "      <th>Pclass</th>\n",
       "      <th>Age</th>\n",
       "      <th>SibSp</th>\n",
       "      <th>Parch</th>\n",
       "      <th>Fare</th>\n",
       "      <th>male</th>\n",
       "      <th>Q</th>\n",
       "      <th>S</th>\n",
       "    </tr>\n",
       "  </thead>\n",
       "  <tbody>\n",
       "    <tr>\n",
       "      <th>0</th>\n",
       "      <td>1</td>\n",
       "      <td>0</td>\n",
       "      <td>3</td>\n",
       "      <td>22.0</td>\n",
       "      <td>1</td>\n",
       "      <td>0</td>\n",
       "      <td>7.2500</td>\n",
       "      <td>1</td>\n",
       "      <td>0</td>\n",
       "      <td>1</td>\n",
       "    </tr>\n",
       "    <tr>\n",
       "      <th>1</th>\n",
       "      <td>2</td>\n",
       "      <td>1</td>\n",
       "      <td>1</td>\n",
       "      <td>38.0</td>\n",
       "      <td>1</td>\n",
       "      <td>0</td>\n",
       "      <td>71.2833</td>\n",
       "      <td>0</td>\n",
       "      <td>0</td>\n",
       "      <td>0</td>\n",
       "    </tr>\n",
       "    <tr>\n",
       "      <th>2</th>\n",
       "      <td>3</td>\n",
       "      <td>1</td>\n",
       "      <td>3</td>\n",
       "      <td>26.0</td>\n",
       "      <td>0</td>\n",
       "      <td>0</td>\n",
       "      <td>7.9250</td>\n",
       "      <td>0</td>\n",
       "      <td>0</td>\n",
       "      <td>1</td>\n",
       "    </tr>\n",
       "    <tr>\n",
       "      <th>3</th>\n",
       "      <td>4</td>\n",
       "      <td>1</td>\n",
       "      <td>1</td>\n",
       "      <td>35.0</td>\n",
       "      <td>1</td>\n",
       "      <td>0</td>\n",
       "      <td>53.1000</td>\n",
       "      <td>0</td>\n",
       "      <td>0</td>\n",
       "      <td>1</td>\n",
       "    </tr>\n",
       "    <tr>\n",
       "      <th>4</th>\n",
       "      <td>5</td>\n",
       "      <td>0</td>\n",
       "      <td>3</td>\n",
       "      <td>35.0</td>\n",
       "      <td>0</td>\n",
       "      <td>0</td>\n",
       "      <td>8.0500</td>\n",
       "      <td>1</td>\n",
       "      <td>0</td>\n",
       "      <td>1</td>\n",
       "    </tr>\n",
       "  </tbody>\n",
       "</table>\n",
       "</div>"
      ],
      "text/plain": [
       "   PassengerId  Survived  Pclass   Age  SibSp  Parch     Fare  male  Q  S\n",
       "0            1         0       3  22.0      1      0   7.2500     1  0  1\n",
       "1            2         1       1  38.0      1      0  71.2833     0  0  0\n",
       "2            3         1       3  26.0      0      0   7.9250     0  0  1\n",
       "3            4         1       1  35.0      1      0  53.1000     0  0  1\n",
       "4            5         0       3  35.0      0      0   8.0500     1  0  1"
      ]
     },
     "execution_count": 24,
     "metadata": {},
     "output_type": "execute_result"
    }
   ],
   "source": [
    "x.head()"
   ]
  },
  {
   "cell_type": "markdown",
   "id": "64718170",
   "metadata": {
    "papermill": {
     "duration": 0.060245,
     "end_time": "2021-09-02T05:46:08.424925",
     "exception": false,
     "start_time": "2021-09-02T05:46:08.364680",
     "status": "completed"
    },
    "tags": []
   },
   "source": [
    "# **Builiding LogReg**"
   ]
  },
  {
   "cell_type": "code",
   "execution_count": 25,
   "id": "456abac7",
   "metadata": {
    "execution": {
     "iopub.execute_input": "2021-09-02T05:46:08.557809Z",
     "iopub.status.busy": "2021-09-02T05:46:08.557080Z",
     "iopub.status.idle": "2021-09-02T05:46:08.672042Z",
     "shell.execute_reply": "2021-09-02T05:46:08.671409Z",
     "shell.execute_reply.started": "2021-09-02T05:25:15.380373Z"
    },
    "papermill": {
     "duration": 0.184167,
     "end_time": "2021-09-02T05:46:08.672187",
     "exception": false,
     "start_time": "2021-09-02T05:46:08.488020",
     "status": "completed"
    },
    "tags": []
   },
   "outputs": [],
   "source": [
    "from sklearn.model_selection import train_test_split"
   ]
  },
  {
   "cell_type": "code",
   "execution_count": 26,
   "id": "8a56172c",
   "metadata": {
    "execution": {
     "iopub.execute_input": "2021-09-02T05:46:08.800253Z",
     "iopub.status.busy": "2021-09-02T05:46:08.799580Z",
     "iopub.status.idle": "2021-09-02T05:46:08.822333Z",
     "shell.execute_reply": "2021-09-02T05:46:08.822883Z",
     "shell.execute_reply.started": "2021-09-02T05:25:15.487221Z"
    },
    "papermill": {
     "duration": 0.087513,
     "end_time": "2021-09-02T05:46:08.823060",
     "exception": false,
     "start_time": "2021-09-02T05:46:08.735547",
     "status": "completed"
    },
    "tags": []
   },
   "outputs": [
    {
     "data": {
      "text/html": [
       "<div>\n",
       "<style scoped>\n",
       "    .dataframe tbody tr th:only-of-type {\n",
       "        vertical-align: middle;\n",
       "    }\n",
       "\n",
       "    .dataframe tbody tr th {\n",
       "        vertical-align: top;\n",
       "    }\n",
       "\n",
       "    .dataframe thead th {\n",
       "        text-align: right;\n",
       "    }\n",
       "</style>\n",
       "<table border=\"1\" class=\"dataframe\">\n",
       "  <thead>\n",
       "    <tr style=\"text-align: right;\">\n",
       "      <th></th>\n",
       "      <th>Pclass</th>\n",
       "      <th>male</th>\n",
       "      <th>Age</th>\n",
       "      <th>SibSp</th>\n",
       "      <th>Parch</th>\n",
       "      <th>Fare</th>\n",
       "      <th>Q</th>\n",
       "      <th>S</th>\n",
       "    </tr>\n",
       "  </thead>\n",
       "  <tbody>\n",
       "    <tr>\n",
       "      <th>0</th>\n",
       "      <td>3</td>\n",
       "      <td>1</td>\n",
       "      <td>22.0</td>\n",
       "      <td>1</td>\n",
       "      <td>0</td>\n",
       "      <td>7.2500</td>\n",
       "      <td>0</td>\n",
       "      <td>1</td>\n",
       "    </tr>\n",
       "    <tr>\n",
       "      <th>1</th>\n",
       "      <td>1</td>\n",
       "      <td>0</td>\n",
       "      <td>38.0</td>\n",
       "      <td>1</td>\n",
       "      <td>0</td>\n",
       "      <td>71.2833</td>\n",
       "      <td>0</td>\n",
       "      <td>0</td>\n",
       "    </tr>\n",
       "    <tr>\n",
       "      <th>2</th>\n",
       "      <td>3</td>\n",
       "      <td>0</td>\n",
       "      <td>26.0</td>\n",
       "      <td>0</td>\n",
       "      <td>0</td>\n",
       "      <td>7.9250</td>\n",
       "      <td>0</td>\n",
       "      <td>1</td>\n",
       "    </tr>\n",
       "    <tr>\n",
       "      <th>3</th>\n",
       "      <td>1</td>\n",
       "      <td>0</td>\n",
       "      <td>35.0</td>\n",
       "      <td>1</td>\n",
       "      <td>0</td>\n",
       "      <td>53.1000</td>\n",
       "      <td>0</td>\n",
       "      <td>1</td>\n",
       "    </tr>\n",
       "    <tr>\n",
       "      <th>4</th>\n",
       "      <td>3</td>\n",
       "      <td>1</td>\n",
       "      <td>35.0</td>\n",
       "      <td>0</td>\n",
       "      <td>0</td>\n",
       "      <td>8.0500</td>\n",
       "      <td>0</td>\n",
       "      <td>1</td>\n",
       "    </tr>\n",
       "    <tr>\n",
       "      <th>...</th>\n",
       "      <td>...</td>\n",
       "      <td>...</td>\n",
       "      <td>...</td>\n",
       "      <td>...</td>\n",
       "      <td>...</td>\n",
       "      <td>...</td>\n",
       "      <td>...</td>\n",
       "      <td>...</td>\n",
       "    </tr>\n",
       "    <tr>\n",
       "      <th>886</th>\n",
       "      <td>2</td>\n",
       "      <td>1</td>\n",
       "      <td>27.0</td>\n",
       "      <td>0</td>\n",
       "      <td>0</td>\n",
       "      <td>13.0000</td>\n",
       "      <td>0</td>\n",
       "      <td>1</td>\n",
       "    </tr>\n",
       "    <tr>\n",
       "      <th>887</th>\n",
       "      <td>1</td>\n",
       "      <td>0</td>\n",
       "      <td>19.0</td>\n",
       "      <td>0</td>\n",
       "      <td>0</td>\n",
       "      <td>30.0000</td>\n",
       "      <td>0</td>\n",
       "      <td>1</td>\n",
       "    </tr>\n",
       "    <tr>\n",
       "      <th>888</th>\n",
       "      <td>3</td>\n",
       "      <td>0</td>\n",
       "      <td>25.0</td>\n",
       "      <td>1</td>\n",
       "      <td>2</td>\n",
       "      <td>23.4500</td>\n",
       "      <td>0</td>\n",
       "      <td>1</td>\n",
       "    </tr>\n",
       "    <tr>\n",
       "      <th>889</th>\n",
       "      <td>1</td>\n",
       "      <td>1</td>\n",
       "      <td>26.0</td>\n",
       "      <td>0</td>\n",
       "      <td>0</td>\n",
       "      <td>30.0000</td>\n",
       "      <td>0</td>\n",
       "      <td>0</td>\n",
       "    </tr>\n",
       "    <tr>\n",
       "      <th>890</th>\n",
       "      <td>3</td>\n",
       "      <td>1</td>\n",
       "      <td>32.0</td>\n",
       "      <td>0</td>\n",
       "      <td>0</td>\n",
       "      <td>7.7500</td>\n",
       "      <td>1</td>\n",
       "      <td>0</td>\n",
       "    </tr>\n",
       "  </tbody>\n",
       "</table>\n",
       "<p>891 rows × 8 columns</p>\n",
       "</div>"
      ],
      "text/plain": [
       "     Pclass  male   Age  SibSp  Parch     Fare  Q  S\n",
       "0         3     1  22.0      1      0   7.2500  0  1\n",
       "1         1     0  38.0      1      0  71.2833  0  0\n",
       "2         3     0  26.0      0      0   7.9250  0  1\n",
       "3         1     0  35.0      1      0  53.1000  0  1\n",
       "4         3     1  35.0      0      0   8.0500  0  1\n",
       "..      ...   ...   ...    ...    ...      ... .. ..\n",
       "886       2     1  27.0      0      0  13.0000  0  1\n",
       "887       1     0  19.0      0      0  30.0000  0  1\n",
       "888       3     0  25.0      1      2  23.4500  0  1\n",
       "889       1     1  26.0      0      0  30.0000  0  0\n",
       "890       3     1  32.0      0      0   7.7500  1  0\n",
       "\n",
       "[891 rows x 8 columns]"
      ]
     },
     "execution_count": 26,
     "metadata": {},
     "output_type": "execute_result"
    }
   ],
   "source": [
    "x[['Pclass','male','Age','SibSp','Parch','Fare','Q','S']]"
   ]
  },
  {
   "cell_type": "code",
   "execution_count": 27,
   "id": "8f9771ff",
   "metadata": {
    "execution": {
     "iopub.execute_input": "2021-09-02T05:46:08.952790Z",
     "iopub.status.busy": "2021-09-02T05:46:08.952081Z",
     "iopub.status.idle": "2021-09-02T05:46:08.962404Z",
     "shell.execute_reply": "2021-09-02T05:46:08.961637Z",
     "shell.execute_reply.started": "2021-09-02T05:25:15.511669Z"
    },
    "papermill": {
     "duration": 0.076567,
     "end_time": "2021-09-02T05:46:08.962565",
     "exception": false,
     "start_time": "2021-09-02T05:46:08.885998",
     "status": "completed"
    },
    "tags": []
   },
   "outputs": [],
   "source": [
    "x_train, x_test, y_train, y_test = train_test_split(x.drop('Survived', axis =1), x['Survived'], test_size = 0.30)"
   ]
  },
  {
   "cell_type": "code",
   "execution_count": 28,
   "id": "72a18b75",
   "metadata": {
    "execution": {
     "iopub.execute_input": "2021-09-02T05:46:09.110663Z",
     "iopub.status.busy": "2021-09-02T05:46:09.109648Z",
     "iopub.status.idle": "2021-09-02T05:46:09.114944Z",
     "shell.execute_reply": "2021-09-02T05:46:09.114286Z",
     "shell.execute_reply.started": "2021-09-02T05:25:15.521579Z"
    },
    "papermill": {
     "duration": 0.090503,
     "end_time": "2021-09-02T05:46:09.115084",
     "exception": false,
     "start_time": "2021-09-02T05:46:09.024581",
     "status": "completed"
    },
    "tags": []
   },
   "outputs": [
    {
     "data": {
      "text/html": [
       "<div>\n",
       "<style scoped>\n",
       "    .dataframe tbody tr th:only-of-type {\n",
       "        vertical-align: middle;\n",
       "    }\n",
       "\n",
       "    .dataframe tbody tr th {\n",
       "        vertical-align: top;\n",
       "    }\n",
       "\n",
       "    .dataframe thead th {\n",
       "        text-align: right;\n",
       "    }\n",
       "</style>\n",
       "<table border=\"1\" class=\"dataframe\">\n",
       "  <thead>\n",
       "    <tr style=\"text-align: right;\">\n",
       "      <th></th>\n",
       "      <th>PassengerId</th>\n",
       "      <th>Pclass</th>\n",
       "      <th>Age</th>\n",
       "      <th>SibSp</th>\n",
       "      <th>Parch</th>\n",
       "      <th>Fare</th>\n",
       "      <th>male</th>\n",
       "      <th>Q</th>\n",
       "      <th>S</th>\n",
       "    </tr>\n",
       "  </thead>\n",
       "  <tbody>\n",
       "    <tr>\n",
       "      <th>168</th>\n",
       "      <td>169</td>\n",
       "      <td>1</td>\n",
       "      <td>38.0</td>\n",
       "      <td>0</td>\n",
       "      <td>0</td>\n",
       "      <td>25.9250</td>\n",
       "      <td>1</td>\n",
       "      <td>0</td>\n",
       "      <td>1</td>\n",
       "    </tr>\n",
       "    <tr>\n",
       "      <th>223</th>\n",
       "      <td>224</td>\n",
       "      <td>3</td>\n",
       "      <td>25.0</td>\n",
       "      <td>0</td>\n",
       "      <td>0</td>\n",
       "      <td>7.8958</td>\n",
       "      <td>1</td>\n",
       "      <td>0</td>\n",
       "      <td>1</td>\n",
       "    </tr>\n",
       "    <tr>\n",
       "      <th>763</th>\n",
       "      <td>764</td>\n",
       "      <td>1</td>\n",
       "      <td>36.0</td>\n",
       "      <td>1</td>\n",
       "      <td>2</td>\n",
       "      <td>120.0000</td>\n",
       "      <td>0</td>\n",
       "      <td>0</td>\n",
       "      <td>1</td>\n",
       "    </tr>\n",
       "    <tr>\n",
       "      <th>90</th>\n",
       "      <td>91</td>\n",
       "      <td>3</td>\n",
       "      <td>29.0</td>\n",
       "      <td>0</td>\n",
       "      <td>0</td>\n",
       "      <td>8.0500</td>\n",
       "      <td>1</td>\n",
       "      <td>0</td>\n",
       "      <td>1</td>\n",
       "    </tr>\n",
       "    <tr>\n",
       "      <th>697</th>\n",
       "      <td>698</td>\n",
       "      <td>3</td>\n",
       "      <td>25.0</td>\n",
       "      <td>0</td>\n",
       "      <td>0</td>\n",
       "      <td>7.7333</td>\n",
       "      <td>0</td>\n",
       "      <td>1</td>\n",
       "      <td>0</td>\n",
       "    </tr>\n",
       "    <tr>\n",
       "      <th>...</th>\n",
       "      <td>...</td>\n",
       "      <td>...</td>\n",
       "      <td>...</td>\n",
       "      <td>...</td>\n",
       "      <td>...</td>\n",
       "      <td>...</td>\n",
       "      <td>...</td>\n",
       "      <td>...</td>\n",
       "      <td>...</td>\n",
       "    </tr>\n",
       "    <tr>\n",
       "      <th>515</th>\n",
       "      <td>516</td>\n",
       "      <td>1</td>\n",
       "      <td>47.0</td>\n",
       "      <td>0</td>\n",
       "      <td>0</td>\n",
       "      <td>34.0208</td>\n",
       "      <td>1</td>\n",
       "      <td>0</td>\n",
       "      <td>1</td>\n",
       "    </tr>\n",
       "    <tr>\n",
       "      <th>746</th>\n",
       "      <td>747</td>\n",
       "      <td>3</td>\n",
       "      <td>16.0</td>\n",
       "      <td>1</td>\n",
       "      <td>1</td>\n",
       "      <td>20.2500</td>\n",
       "      <td>1</td>\n",
       "      <td>0</td>\n",
       "      <td>1</td>\n",
       "    </tr>\n",
       "    <tr>\n",
       "      <th>218</th>\n",
       "      <td>219</td>\n",
       "      <td>1</td>\n",
       "      <td>32.0</td>\n",
       "      <td>0</td>\n",
       "      <td>0</td>\n",
       "      <td>76.2917</td>\n",
       "      <td>0</td>\n",
       "      <td>0</td>\n",
       "      <td>0</td>\n",
       "    </tr>\n",
       "    <tr>\n",
       "      <th>696</th>\n",
       "      <td>697</td>\n",
       "      <td>3</td>\n",
       "      <td>44.0</td>\n",
       "      <td>0</td>\n",
       "      <td>0</td>\n",
       "      <td>8.0500</td>\n",
       "      <td>1</td>\n",
       "      <td>0</td>\n",
       "      <td>1</td>\n",
       "    </tr>\n",
       "    <tr>\n",
       "      <th>585</th>\n",
       "      <td>586</td>\n",
       "      <td>1</td>\n",
       "      <td>18.0</td>\n",
       "      <td>0</td>\n",
       "      <td>2</td>\n",
       "      <td>79.6500</td>\n",
       "      <td>0</td>\n",
       "      <td>0</td>\n",
       "      <td>1</td>\n",
       "    </tr>\n",
       "  </tbody>\n",
       "</table>\n",
       "<p>623 rows × 9 columns</p>\n",
       "</div>"
      ],
      "text/plain": [
       "     PassengerId  Pclass   Age  SibSp  Parch      Fare  male  Q  S\n",
       "168          169       1  38.0      0      0   25.9250     1  0  1\n",
       "223          224       3  25.0      0      0    7.8958     1  0  1\n",
       "763          764       1  36.0      1      2  120.0000     0  0  1\n",
       "90            91       3  29.0      0      0    8.0500     1  0  1\n",
       "697          698       3  25.0      0      0    7.7333     0  1  0\n",
       "..           ...     ...   ...    ...    ...       ...   ... .. ..\n",
       "515          516       1  47.0      0      0   34.0208     1  0  1\n",
       "746          747       3  16.0      1      1   20.2500     1  0  1\n",
       "218          219       1  32.0      0      0   76.2917     0  0  0\n",
       "696          697       3  44.0      0      0    8.0500     1  0  1\n",
       "585          586       1  18.0      0      2   79.6500     0  0  1\n",
       "\n",
       "[623 rows x 9 columns]"
      ]
     },
     "execution_count": 28,
     "metadata": {},
     "output_type": "execute_result"
    }
   ],
   "source": [
    "x_train"
   ]
  },
  {
   "cell_type": "code",
   "execution_count": 29,
   "id": "ddcf5741",
   "metadata": {
    "execution": {
     "iopub.execute_input": "2021-09-02T05:46:09.254253Z",
     "iopub.status.busy": "2021-09-02T05:46:09.252246Z",
     "iopub.status.idle": "2021-09-02T05:46:09.282094Z",
     "shell.execute_reply": "2021-09-02T05:46:09.281358Z",
     "shell.execute_reply.started": "2021-09-02T05:25:39.290186Z"
    },
    "papermill": {
     "duration": 0.099539,
     "end_time": "2021-09-02T05:46:09.282257",
     "exception": false,
     "start_time": "2021-09-02T05:46:09.182718",
     "status": "completed"
    },
    "tags": []
   },
   "outputs": [],
   "source": [
    "from sklearn.linear_model import LogisticRegression"
   ]
  },
  {
   "cell_type": "code",
   "execution_count": 30,
   "id": "b885845f",
   "metadata": {
    "execution": {
     "iopub.execute_input": "2021-09-02T05:46:09.422374Z",
     "iopub.status.busy": "2021-09-02T05:46:09.421626Z",
     "iopub.status.idle": "2021-09-02T05:46:09.606295Z",
     "shell.execute_reply": "2021-09-02T05:46:09.605618Z",
     "shell.execute_reply.started": "2021-09-02T05:26:14.199459Z"
    },
    "papermill": {
     "duration": 0.25944,
     "end_time": "2021-09-02T05:46:09.606447",
     "exception": false,
     "start_time": "2021-09-02T05:46:09.347007",
     "status": "completed"
    },
    "tags": []
   },
   "outputs": [
    {
     "name": "stderr",
     "output_type": "stream",
     "text": [
      "/opt/conda/lib/python3.7/site-packages/sklearn/linear_model/_logistic.py:765: ConvergenceWarning: lbfgs failed to converge (status=1):\n",
      "STOP: TOTAL NO. of ITERATIONS REACHED LIMIT.\n",
      "\n",
      "Increase the number of iterations (max_iter) or scale the data as shown in:\n",
      "    https://scikit-learn.org/stable/modules/preprocessing.html\n",
      "Please also refer to the documentation for alternative solver options:\n",
      "    https://scikit-learn.org/stable/modules/linear_model.html#logistic-regression\n",
      "  extra_warning_msg=_LOGISTIC_SOLVER_CONVERGENCE_MSG)\n"
     ]
    },
    {
     "data": {
      "text/plain": [
       "LogisticRegression()"
      ]
     },
     "execution_count": 30,
     "metadata": {},
     "output_type": "execute_result"
    }
   ],
   "source": [
    "lr = LogisticRegression()\n",
    "lr.fit(x_train,y_train)"
   ]
  },
  {
   "cell_type": "code",
   "execution_count": null,
   "id": "46e83094",
   "metadata": {
    "papermill": {
     "duration": 0.06547,
     "end_time": "2021-09-02T05:46:09.736083",
     "exception": false,
     "start_time": "2021-09-02T05:46:09.670613",
     "status": "completed"
    },
    "tags": []
   },
   "outputs": [],
   "source": []
  }
 ],
 "metadata": {
  "kernelspec": {
   "display_name": "Python 3",
   "language": "python",
   "name": "python3"
  },
  "language_info": {
   "codemirror_mode": {
    "name": "ipython",
    "version": 3
   },
   "file_extension": ".py",
   "mimetype": "text/x-python",
   "name": "python",
   "nbconvert_exporter": "python",
   "pygments_lexer": "ipython3",
   "version": "3.7.10"
  },
  "papermill": {
   "default_parameters": {},
   "duration": 35.959939,
   "end_time": "2021-09-02T05:46:11.130418",
   "environment_variables": {},
   "exception": null,
   "input_path": "__notebook__.ipynb",
   "output_path": "__notebook__.ipynb",
   "parameters": {},
   "start_time": "2021-09-02T05:45:35.170479",
   "version": "2.3.3"
  }
 },
 "nbformat": 4,
 "nbformat_minor": 5
}
