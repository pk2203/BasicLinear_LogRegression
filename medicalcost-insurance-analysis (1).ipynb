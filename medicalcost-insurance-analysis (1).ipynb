{
 "cells": [
  {
   "cell_type": "code",
   "execution_count": 1,
   "id": "0aa62999",
   "metadata": {
    "execution": {
     "iopub.execute_input": "2022-06-10T17:59:12.367175Z",
     "iopub.status.busy": "2022-06-10T17:59:12.366038Z",
     "iopub.status.idle": "2022-06-10T17:59:18.763130Z",
     "shell.execute_reply": "2022-06-10T17:59:18.762452Z",
     "shell.execute_reply.started": "2022-02-08T18:18:00.690021Z"
    },
    "papermill": {
     "duration": 6.426515,
     "end_time": "2022-06-10T17:59:18.763316",
     "exception": false,
     "start_time": "2022-06-10T17:59:12.336801",
     "status": "completed"
    },
    "tags": []
   },
   "outputs": [],
   "source": [
    "import tensorflow as tf\n",
    "import pandas as pd\n",
    "import numpy as np\n",
    "import matplotlib.pyplot as plt\n",
    "import seaborn as sns"
   ]
  },
  {
   "cell_type": "code",
   "execution_count": 2,
   "id": "45a4581a",
   "metadata": {
    "execution": {
     "iopub.execute_input": "2022-06-10T17:59:18.817844Z",
     "iopub.status.busy": "2022-06-10T17:59:18.817081Z",
     "iopub.status.idle": "2022-06-10T17:59:18.855817Z",
     "shell.execute_reply": "2022-06-10T17:59:18.856374Z",
     "shell.execute_reply.started": "2022-02-08T18:18:03.825057Z"
    },
    "papermill": {
     "duration": 0.068656,
     "end_time": "2022-06-10T17:59:18.856552",
     "exception": false,
     "start_time": "2022-06-10T17:59:18.787896",
     "status": "completed"
    },
    "tags": []
   },
   "outputs": [
    {
     "data": {
      "text/html": [
       "<div>\n",
       "<style scoped>\n",
       "    .dataframe tbody tr th:only-of-type {\n",
       "        vertical-align: middle;\n",
       "    }\n",
       "\n",
       "    .dataframe tbody tr th {\n",
       "        vertical-align: top;\n",
       "    }\n",
       "\n",
       "    .dataframe thead th {\n",
       "        text-align: right;\n",
       "    }\n",
       "</style>\n",
       "<table border=\"1\" class=\"dataframe\">\n",
       "  <thead>\n",
       "    <tr style=\"text-align: right;\">\n",
       "      <th></th>\n",
       "      <th>age</th>\n",
       "      <th>sex</th>\n",
       "      <th>bmi</th>\n",
       "      <th>children</th>\n",
       "      <th>smoker</th>\n",
       "      <th>region</th>\n",
       "      <th>charges</th>\n",
       "    </tr>\n",
       "  </thead>\n",
       "  <tbody>\n",
       "    <tr>\n",
       "      <th>0</th>\n",
       "      <td>19</td>\n",
       "      <td>female</td>\n",
       "      <td>27.900</td>\n",
       "      <td>0</td>\n",
       "      <td>yes</td>\n",
       "      <td>southwest</td>\n",
       "      <td>16884.92400</td>\n",
       "    </tr>\n",
       "    <tr>\n",
       "      <th>1</th>\n",
       "      <td>18</td>\n",
       "      <td>male</td>\n",
       "      <td>33.770</td>\n",
       "      <td>1</td>\n",
       "      <td>no</td>\n",
       "      <td>southeast</td>\n",
       "      <td>1725.55230</td>\n",
       "    </tr>\n",
       "    <tr>\n",
       "      <th>2</th>\n",
       "      <td>28</td>\n",
       "      <td>male</td>\n",
       "      <td>33.000</td>\n",
       "      <td>3</td>\n",
       "      <td>no</td>\n",
       "      <td>southeast</td>\n",
       "      <td>4449.46200</td>\n",
       "    </tr>\n",
       "    <tr>\n",
       "      <th>3</th>\n",
       "      <td>33</td>\n",
       "      <td>male</td>\n",
       "      <td>22.705</td>\n",
       "      <td>0</td>\n",
       "      <td>no</td>\n",
       "      <td>northwest</td>\n",
       "      <td>21984.47061</td>\n",
       "    </tr>\n",
       "    <tr>\n",
       "      <th>4</th>\n",
       "      <td>32</td>\n",
       "      <td>male</td>\n",
       "      <td>28.880</td>\n",
       "      <td>0</td>\n",
       "      <td>no</td>\n",
       "      <td>northwest</td>\n",
       "      <td>3866.85520</td>\n",
       "    </tr>\n",
       "  </tbody>\n",
       "</table>\n",
       "</div>"
      ],
      "text/plain": [
       "   age     sex     bmi  children smoker     region      charges\n",
       "0   19  female  27.900         0    yes  southwest  16884.92400\n",
       "1   18    male  33.770         1     no  southeast   1725.55230\n",
       "2   28    male  33.000         3     no  southeast   4449.46200\n",
       "3   33    male  22.705         0     no  northwest  21984.47061\n",
       "4   32    male  28.880         0     no  northwest   3866.85520"
      ]
     },
     "execution_count": 2,
     "metadata": {},
     "output_type": "execute_result"
    }
   ],
   "source": [
    "meddata = pd.read_csv(\"../input/insurance/insurance.csv\")\n",
    "meddata.head()"
   ]
  },
  {
   "cell_type": "code",
   "execution_count": 3,
   "id": "4b8e29fe",
   "metadata": {
    "execution": {
     "iopub.execute_input": "2022-06-10T17:59:18.909818Z",
     "iopub.status.busy": "2022-06-10T17:59:18.908851Z",
     "iopub.status.idle": "2022-06-10T17:59:18.933372Z",
     "shell.execute_reply": "2022-06-10T17:59:18.933855Z",
     "shell.execute_reply.started": "2022-02-08T18:18:12.248138Z"
    },
    "papermill": {
     "duration": 0.052781,
     "end_time": "2022-06-10T17:59:18.934032",
     "exception": false,
     "start_time": "2022-06-10T17:59:18.881251",
     "status": "completed"
    },
    "tags": []
   },
   "outputs": [
    {
     "name": "stdout",
     "output_type": "stream",
     "text": [
      "<class 'pandas.core.frame.DataFrame'>\n",
      "RangeIndex: 1338 entries, 0 to 1337\n",
      "Data columns (total 7 columns):\n",
      " #   Column    Non-Null Count  Dtype  \n",
      "---  ------    --------------  -----  \n",
      " 0   age       1338 non-null   int64  \n",
      " 1   sex       1338 non-null   object \n",
      " 2   bmi       1338 non-null   float64\n",
      " 3   children  1338 non-null   int64  \n",
      " 4   smoker    1338 non-null   object \n",
      " 5   region    1338 non-null   object \n",
      " 6   charges   1338 non-null   float64\n",
      "dtypes: float64(2), int64(2), object(3)\n",
      "memory usage: 73.3+ KB\n"
     ]
    }
   ],
   "source": [
    "meddata.info()"
   ]
  },
  {
   "cell_type": "code",
   "execution_count": 4,
   "id": "7b50de25",
   "metadata": {
    "execution": {
     "iopub.execute_input": "2022-06-10T17:59:18.988552Z",
     "iopub.status.busy": "2022-06-10T17:59:18.987552Z",
     "iopub.status.idle": "2022-06-10T17:59:19.012057Z",
     "shell.execute_reply": "2022-06-10T17:59:19.012644Z",
     "shell.execute_reply.started": "2022-02-08T18:18:16.953642Z"
    },
    "papermill": {
     "duration": 0.053705,
     "end_time": "2022-06-10T17:59:19.012819",
     "exception": false,
     "start_time": "2022-06-10T17:59:18.959114",
     "status": "completed"
    },
    "tags": []
   },
   "outputs": [
    {
     "data": {
      "text/html": [
       "<div>\n",
       "<style scoped>\n",
       "    .dataframe tbody tr th:only-of-type {\n",
       "        vertical-align: middle;\n",
       "    }\n",
       "\n",
       "    .dataframe tbody tr th {\n",
       "        vertical-align: top;\n",
       "    }\n",
       "\n",
       "    .dataframe thead th {\n",
       "        text-align: right;\n",
       "    }\n",
       "</style>\n",
       "<table border=\"1\" class=\"dataframe\">\n",
       "  <thead>\n",
       "    <tr style=\"text-align: right;\">\n",
       "      <th></th>\n",
       "      <th>age</th>\n",
       "      <th>bmi</th>\n",
       "      <th>children</th>\n",
       "      <th>charges</th>\n",
       "    </tr>\n",
       "  </thead>\n",
       "  <tbody>\n",
       "    <tr>\n",
       "      <th>count</th>\n",
       "      <td>1338.000000</td>\n",
       "      <td>1338.000000</td>\n",
       "      <td>1338.000000</td>\n",
       "      <td>1338.000000</td>\n",
       "    </tr>\n",
       "    <tr>\n",
       "      <th>mean</th>\n",
       "      <td>39.207025</td>\n",
       "      <td>30.663397</td>\n",
       "      <td>1.094918</td>\n",
       "      <td>13270.422265</td>\n",
       "    </tr>\n",
       "    <tr>\n",
       "      <th>std</th>\n",
       "      <td>14.049960</td>\n",
       "      <td>6.098187</td>\n",
       "      <td>1.205493</td>\n",
       "      <td>12110.011237</td>\n",
       "    </tr>\n",
       "    <tr>\n",
       "      <th>min</th>\n",
       "      <td>18.000000</td>\n",
       "      <td>15.960000</td>\n",
       "      <td>0.000000</td>\n",
       "      <td>1121.873900</td>\n",
       "    </tr>\n",
       "    <tr>\n",
       "      <th>25%</th>\n",
       "      <td>27.000000</td>\n",
       "      <td>26.296250</td>\n",
       "      <td>0.000000</td>\n",
       "      <td>4740.287150</td>\n",
       "    </tr>\n",
       "    <tr>\n",
       "      <th>50%</th>\n",
       "      <td>39.000000</td>\n",
       "      <td>30.400000</td>\n",
       "      <td>1.000000</td>\n",
       "      <td>9382.033000</td>\n",
       "    </tr>\n",
       "    <tr>\n",
       "      <th>75%</th>\n",
       "      <td>51.000000</td>\n",
       "      <td>34.693750</td>\n",
       "      <td>2.000000</td>\n",
       "      <td>16639.912515</td>\n",
       "    </tr>\n",
       "    <tr>\n",
       "      <th>max</th>\n",
       "      <td>64.000000</td>\n",
       "      <td>53.130000</td>\n",
       "      <td>5.000000</td>\n",
       "      <td>63770.428010</td>\n",
       "    </tr>\n",
       "  </tbody>\n",
       "</table>\n",
       "</div>"
      ],
      "text/plain": [
       "               age          bmi     children       charges\n",
       "count  1338.000000  1338.000000  1338.000000   1338.000000\n",
       "mean     39.207025    30.663397     1.094918  13270.422265\n",
       "std      14.049960     6.098187     1.205493  12110.011237\n",
       "min      18.000000    15.960000     0.000000   1121.873900\n",
       "25%      27.000000    26.296250     0.000000   4740.287150\n",
       "50%      39.000000    30.400000     1.000000   9382.033000\n",
       "75%      51.000000    34.693750     2.000000  16639.912515\n",
       "max      64.000000    53.130000     5.000000  63770.428010"
      ]
     },
     "execution_count": 4,
     "metadata": {},
     "output_type": "execute_result"
    }
   ],
   "source": [
    "meddata.describe()"
   ]
  },
  {
   "cell_type": "code",
   "execution_count": 5,
   "id": "32ff6f4a",
   "metadata": {
    "execution": {
     "iopub.execute_input": "2022-06-10T17:59:19.067651Z",
     "iopub.status.busy": "2022-06-10T17:59:19.067040Z",
     "iopub.status.idle": "2022-06-10T17:59:19.364429Z",
     "shell.execute_reply": "2022-06-10T17:59:19.363529Z",
     "shell.execute_reply.started": "2022-02-08T18:18:19.442555Z"
    },
    "papermill": {
     "duration": 0.325342,
     "end_time": "2022-06-10T17:59:19.364579",
     "exception": false,
     "start_time": "2022-06-10T17:59:19.039237",
     "status": "completed"
    },
    "tags": []
   },
   "outputs": [
    {
     "data": {
      "text/plain": [
       "<AxesSubplot:xlabel='sex', ylabel='charges'>"
      ]
     },
     "execution_count": 5,
     "metadata": {},
     "output_type": "execute_result"
    },
    {
     "data": {
      "image/png": "[encoded data removed]",
      "text/plain": [
       "<Figure size 432x288 with 1 Axes>"
      ]
     },
     "metadata": {
      "needs_background": "light"
     },
     "output_type": "display_data"
    }
   ],
   "source": [
    "sns.barplot(x = 'sex', y ='charges', data = meddata)"
   ]
  },
  {
   "cell_type": "code",
   "execution_count": 6,
   "id": "131ea9c2",
   "metadata": {
    "execution": {
     "iopub.execute_input": "2022-06-10T17:59:19.421182Z",
     "iopub.status.busy": "2022-06-10T17:59:19.420542Z",
     "iopub.status.idle": "2022-06-10T17:59:19.689646Z",
     "shell.execute_reply": "2022-06-10T17:59:19.690170Z",
     "shell.execute_reply.started": "2022-02-08T18:18:24.041443Z"
    },
    "papermill": {
     "duration": 0.298799,
     "end_time": "2022-06-10T17:59:19.690355",
     "exception": false,
     "start_time": "2022-06-10T17:59:19.391556",
     "status": "completed"
    },
    "tags": []
   },
   "outputs": [
    {
     "data": {
      "text/plain": [
       "<AxesSubplot:xlabel='sex', ylabel='charges'>"
      ]
     },
     "execution_count": 6,
     "metadata": {},
     "output_type": "execute_result"
    },
    {
     "data": {
      "image/png": "[encoded data removed]",
      "text/plain": [
       "<Figure size 432x288 with 1 Axes>"
      ]
     },
     "metadata": {
      "needs_background": "light"
     },
     "output_type": "display_data"
    }
   ],
   "source": [
    "sns.boxplot(x= 'sex', y='charges', hue='smoker', data = meddata)"
   ]
  },
  {
   "cell_type": "code",
   "execution_count": 7,
   "id": "1422dde2",
   "metadata": {
    "execution": {
     "iopub.execute_input": "2022-06-10T17:59:19.748290Z",
     "iopub.status.busy": "2022-06-10T17:59:19.747640Z",
     "iopub.status.idle": "2022-06-10T17:59:20.098816Z",
     "shell.execute_reply": "2022-06-10T17:59:20.099329Z",
     "shell.execute_reply.started": "2022-02-08T18:18:27.060682Z"
    },
    "papermill": {
     "duration": 0.3816,
     "end_time": "2022-06-10T17:59:20.099495",
     "exception": false,
     "start_time": "2022-06-10T17:59:19.717895",
     "status": "completed"
    },
    "tags": []
   },
   "outputs": [
    {
     "name": "stderr",
     "output_type": "stream",
     "text": [
      "/opt/conda/lib/python3.7/site-packages/seaborn/distributions.py:2619: FutureWarning: `distplot` is a deprecated function and will be removed in a future version. Please adapt your code to use either `displot` (a figure-level function with similar flexibility) or `histplot` (an axes-level function for histograms).\n",
      "  warnings.warn(msg, FutureWarning)\n"
     ]
    },
    {
     "data": {
      "text/plain": [
       "<AxesSubplot:xlabel='charges', ylabel='Density'>"
      ]
     },
     "execution_count": 7,
     "metadata": {},
     "output_type": "execute_result"
    },
    {
     "data": {
      "image/png": "[encoded data removed]",
      "text/plain": [
       "<Figure size 432x288 with 1 Axes>"
      ]
     },
     "metadata": {
      "needs_background": "light"
     },
     "output_type": "display_data"
    }
   ],
   "source": [
    "sns.distplot(meddata['charges'], bins = 50)"
   ]
  },
  {
   "cell_type": "code",
   "execution_count": 8,
   "id": "de1d43c6",
   "metadata": {
    "execution": {
     "iopub.execute_input": "2022-06-10T17:59:20.161023Z",
     "iopub.status.busy": "2022-06-10T17:59:20.160417Z",
     "iopub.status.idle": "2022-06-10T17:59:23.485100Z",
     "shell.execute_reply": "2022-06-10T17:59:23.485595Z",
     "shell.execute_reply.started": "2022-02-08T18:18:30.167836Z"
    },
    "papermill": {
     "duration": 3.357242,
     "end_time": "2022-06-10T17:59:23.485766",
     "exception": false,
     "start_time": "2022-06-10T17:59:20.128524",
     "status": "completed"
    },
    "tags": []
   },
   "outputs": [
    {
     "data": {
      "text/plain": [
       "<seaborn.axisgrid.PairGrid at 0x7efd015bac50>"
      ]
     },
     "execution_count": 8,
     "metadata": {},
     "output_type": "execute_result"
    },
    {
     "data": {
      "image/png": "[encoded data removed]",
      "text/plain": [
       "<Figure size 720x720 with 20 Axes>"
      ]
     },
     "metadata": {
      "needs_background": "light"
     },
     "output_type": "display_data"
    }
   ],
   "source": [
    "sns.pairplot(meddata)"
   ]
  },
  {
   "cell_type": "code",
   "execution_count": 9,
   "id": "70dfff6a",
   "metadata": {
    "execution": {
     "iopub.execute_input": "2022-06-10T17:59:23.649070Z",
     "iopub.status.busy": "2022-06-10T17:59:23.589256Z",
     "iopub.status.idle": "2022-06-10T17:59:24.345705Z",
     "shell.execute_reply": "2022-06-10T17:59:24.345192Z",
     "shell.execute_reply.started": "2022-02-08T18:18:59.127641Z"
    },
    "papermill": {
     "duration": 0.825284,
     "end_time": "2022-06-10T17:59:24.345842",
     "exception": false,
     "start_time": "2022-06-10T17:59:23.520558",
     "status": "completed"
    },
    "tags": []
   },
   "outputs": [
    {
     "data": {
      "text/plain": [
       "<seaborn.axisgrid.JointGrid at 0x7efcf89a4c10>"
      ]
     },
     "execution_count": 9,
     "metadata": {},
     "output_type": "execute_result"
    },
    {
     "data": {
      "image/png": "[encoded data removed]",
      "text/plain": [
       "<Figure size 432x432 with 3 Axes>"
      ]
     },
     "metadata": {
      "needs_background": "light"
     },
     "output_type": "display_data"
    }
   ],
   "source": [
    "sns.jointplot(x = 'age', y = 'charges', data = meddata)"
   ]
  },
  {
   "cell_type": "code",
   "execution_count": 10,
   "id": "62bdd371",
   "metadata": {
    "execution": {
     "iopub.execute_input": "2022-06-10T17:59:24.424317Z",
     "iopub.status.busy": "2022-06-10T17:59:24.423363Z",
     "iopub.status.idle": "2022-06-10T17:59:25.435358Z",
     "shell.execute_reply": "2022-06-10T17:59:25.435864Z",
     "shell.execute_reply.started": "2022-02-08T18:19:04.939489Z"
    },
    "papermill": {
     "duration": 1.053674,
     "end_time": "2022-06-10T17:59:25.436034",
     "exception": false,
     "start_time": "2022-06-10T17:59:24.382360",
     "status": "completed"
    },
    "tags": []
   },
   "outputs": [
    {
     "data": {
      "text/plain": [
       "<seaborn.axisgrid.FacetGrid at 0x7efcf8946450>"
      ]
     },
     "execution_count": 10,
     "metadata": {},
     "output_type": "execute_result"
    },
    {
     "data": {
      "image/png": "[encoded data removed]",
      "text/plain": [
       "<Figure size 1296x216 with 6 Axes>"
      ]
     },
     "metadata": {
      "needs_background": "light"
     },
     "output_type": "display_data"
    }
   ],
   "source": [
    "fgmap = sns.FacetGrid(meddata, col ='children')\n",
    "fgmap.map(plt.hist, 'charges')"
   ]
  },
  {
   "cell_type": "code",
   "execution_count": 11,
   "id": "947c647b",
   "metadata": {
    "execution": {
     "iopub.execute_input": "2022-06-10T17:59:25.514698Z",
     "iopub.status.busy": "2022-06-10T17:59:25.513754Z",
     "iopub.status.idle": "2022-06-10T17:59:25.636094Z",
     "shell.execute_reply": "2022-06-10T17:59:25.636559Z",
     "shell.execute_reply.started": "2022-02-08T18:27:36.698667Z"
    },
    "papermill": {
     "duration": 0.163303,
     "end_time": "2022-06-10T17:59:25.636735",
     "exception": false,
     "start_time": "2022-06-10T17:59:25.473432",
     "status": "completed"
    },
    "tags": []
   },
   "outputs": [
    {
     "name": "stdout",
     "output_type": "stream",
     "text": [
      "[[0 0 1 0 1 0 0 0]\n",
      " [0 0 0 1 0 1 0 0]\n",
      " [1 0 0 0 0 0 1 0]\n",
      " [0 1 0 0 0 0 0 1]]\n"
     ]
    }
   ],
   "source": [
    "from sklearn.preprocessing import OneHotEncoder\n",
    "one = OneHotEncoder(handle_unknown = 'ignore', dtype = int)\n",
    "regions = [['southeast',0],['southwest',1],['northeast',2],['northwest',3]]\n",
    "one.fit(regions)\n",
    "print(one.transform(regions).toarray())"
   ]
  },
  {
   "cell_type": "code",
   "execution_count": 12,
   "id": "f352172b",
   "metadata": {
    "execution": {
     "iopub.execute_input": "2022-06-10T17:59:25.721932Z",
     "iopub.status.busy": "2022-06-10T17:59:25.721242Z",
     "iopub.status.idle": "2022-06-10T17:59:26.285741Z",
     "shell.execute_reply": "2022-06-10T17:59:26.285173Z",
     "shell.execute_reply.started": "2022-02-08T18:27:46.22878Z"
    },
    "papermill": {
     "duration": 0.611216,
     "end_time": "2022-06-10T17:59:26.285886",
     "exception": false,
     "start_time": "2022-06-10T17:59:25.674670",
     "status": "completed"
    },
    "tags": []
   },
   "outputs": [],
   "source": [
    "def regions_meddata(r):\n",
    "    if r == 'southeast':\n",
    "        return(one.transform(regions).toarray()[0].tolist())\n",
    "    if r == 'southwest':\n",
    "        return(one.transform(regions).toarray()[1].tolist())\n",
    "    if r == 'northeast':\n",
    "        return(one.transform(regions).toarray()[2].tolist())\n",
    "    if r == 'northwest':\n",
    "        return(one.transform(regions).toarray()[3].tolist())\n",
    "    else:\n",
    "        return([0])\n",
    "meddata['regionsohe'] = meddata['region'].apply(regions_meddata)"
   ]
  },
  {
   "cell_type": "code",
   "execution_count": 13,
   "id": "b2c75882",
   "metadata": {
    "execution": {
     "iopub.execute_input": "2022-06-10T17:59:26.366484Z",
     "iopub.status.busy": "2022-06-10T17:59:26.365795Z",
     "iopub.status.idle": "2022-06-10T17:59:26.380243Z",
     "shell.execute_reply": "2022-06-10T17:59:26.380810Z",
     "shell.execute_reply.started": "2022-02-08T18:27:50.039506Z"
    },
    "papermill": {
     "duration": 0.056655,
     "end_time": "2022-06-10T17:59:26.380969",
     "exception": false,
     "start_time": "2022-06-10T17:59:26.324314",
     "status": "completed"
    },
    "tags": []
   },
   "outputs": [
    {
     "data": {
      "text/html": [
       "<div>\n",
       "<style scoped>\n",
       "    .dataframe tbody tr th:only-of-type {\n",
       "        vertical-align: middle;\n",
       "    }\n",
       "\n",
       "    .dataframe tbody tr th {\n",
       "        vertical-align: top;\n",
       "    }\n",
       "\n",
       "    .dataframe thead th {\n",
       "        text-align: right;\n",
       "    }\n",
       "</style>\n",
       "<table border=\"1\" class=\"dataframe\">\n",
       "  <thead>\n",
       "    <tr style=\"text-align: right;\">\n",
       "      <th></th>\n",
       "      <th>age</th>\n",
       "      <th>sex</th>\n",
       "      <th>bmi</th>\n",
       "      <th>children</th>\n",
       "      <th>smoker</th>\n",
       "      <th>region</th>\n",
       "      <th>charges</th>\n",
       "      <th>regionsohe</th>\n",
       "    </tr>\n",
       "  </thead>\n",
       "  <tbody>\n",
       "    <tr>\n",
       "      <th>0</th>\n",
       "      <td>19</td>\n",
       "      <td>female</td>\n",
       "      <td>27.900</td>\n",
       "      <td>0</td>\n",
       "      <td>yes</td>\n",
       "      <td>southwest</td>\n",
       "      <td>16884.92400</td>\n",
       "      <td>[0, 0, 0, 1, 0, 1, 0, 0]</td>\n",
       "    </tr>\n",
       "    <tr>\n",
       "      <th>1</th>\n",
       "      <td>18</td>\n",
       "      <td>male</td>\n",
       "      <td>33.770</td>\n",
       "      <td>1</td>\n",
       "      <td>no</td>\n",
       "      <td>southeast</td>\n",
       "      <td>1725.55230</td>\n",
       "      <td>[0, 0, 1, 0, 1, 0, 0, 0]</td>\n",
       "    </tr>\n",
       "    <tr>\n",
       "      <th>2</th>\n",
       "      <td>28</td>\n",
       "      <td>male</td>\n",
       "      <td>33.000</td>\n",
       "      <td>3</td>\n",
       "      <td>no</td>\n",
       "      <td>southeast</td>\n",
       "      <td>4449.46200</td>\n",
       "      <td>[0, 0, 1, 0, 1, 0, 0, 0]</td>\n",
       "    </tr>\n",
       "    <tr>\n",
       "      <th>3</th>\n",
       "      <td>33</td>\n",
       "      <td>male</td>\n",
       "      <td>22.705</td>\n",
       "      <td>0</td>\n",
       "      <td>no</td>\n",
       "      <td>northwest</td>\n",
       "      <td>21984.47061</td>\n",
       "      <td>[0, 1, 0, 0, 0, 0, 0, 1]</td>\n",
       "    </tr>\n",
       "    <tr>\n",
       "      <th>4</th>\n",
       "      <td>32</td>\n",
       "      <td>male</td>\n",
       "      <td>28.880</td>\n",
       "      <td>0</td>\n",
       "      <td>no</td>\n",
       "      <td>northwest</td>\n",
       "      <td>3866.85520</td>\n",
       "      <td>[0, 1, 0, 0, 0, 0, 0, 1]</td>\n",
       "    </tr>\n",
       "  </tbody>\n",
       "</table>\n",
       "</div>"
      ],
      "text/plain": [
       "   age     sex     bmi  children smoker     region      charges  \\\n",
       "0   19  female  27.900         0    yes  southwest  16884.92400   \n",
       "1   18    male  33.770         1     no  southeast   1725.55230   \n",
       "2   28    male  33.000         3     no  southeast   4449.46200   \n",
       "3   33    male  22.705         0     no  northwest  21984.47061   \n",
       "4   32    male  28.880         0     no  northwest   3866.85520   \n",
       "\n",
       "                 regionsohe  \n",
       "0  [0, 0, 0, 1, 0, 1, 0, 0]  \n",
       "1  [0, 0, 1, 0, 1, 0, 0, 0]  \n",
       "2  [0, 0, 1, 0, 1, 0, 0, 0]  \n",
       "3  [0, 1, 0, 0, 0, 0, 0, 1]  \n",
       "4  [0, 1, 0, 0, 0, 0, 0, 1]  "
      ]
     },
     "execution_count": 13,
     "metadata": {},
     "output_type": "execute_result"
    }
   ],
   "source": [
    "meddata.head()"
   ]
  },
  {
   "cell_type": "code",
   "execution_count": 14,
   "id": "58153264",
   "metadata": {
    "execution": {
     "iopub.execute_input": "2022-06-10T17:59:26.460605Z",
     "iopub.status.busy": "2022-06-10T17:59:26.459963Z",
     "iopub.status.idle": "2022-06-10T17:59:26.475069Z",
     "shell.execute_reply": "2022-06-10T17:59:26.475618Z",
     "shell.execute_reply.started": "2022-02-08T18:27:56.26328Z"
    },
    "papermill": {
     "duration": 0.056698,
     "end_time": "2022-06-10T17:59:26.475795",
     "exception": false,
     "start_time": "2022-06-10T17:59:26.419097",
     "status": "completed"
    },
    "tags": []
   },
   "outputs": [
    {
     "data": {
      "text/html": [
       "<div>\n",
       "<style scoped>\n",
       "    .dataframe tbody tr th:only-of-type {\n",
       "        vertical-align: middle;\n",
       "    }\n",
       "\n",
       "    .dataframe tbody tr th {\n",
       "        vertical-align: top;\n",
       "    }\n",
       "\n",
       "    .dataframe thead th {\n",
       "        text-align: right;\n",
       "    }\n",
       "</style>\n",
       "<table border=\"1\" class=\"dataframe\">\n",
       "  <thead>\n",
       "    <tr style=\"text-align: right;\">\n",
       "      <th></th>\n",
       "      <th>age</th>\n",
       "      <th>sex</th>\n",
       "      <th>bmi</th>\n",
       "      <th>children</th>\n",
       "      <th>smoker</th>\n",
       "      <th>charges</th>\n",
       "      <th>regionsohe</th>\n",
       "    </tr>\n",
       "  </thead>\n",
       "  <tbody>\n",
       "    <tr>\n",
       "      <th>0</th>\n",
       "      <td>19</td>\n",
       "      <td>female</td>\n",
       "      <td>27.900</td>\n",
       "      <td>0</td>\n",
       "      <td>yes</td>\n",
       "      <td>16884.92400</td>\n",
       "      <td>[0, 0, 0, 1, 0, 1, 0, 0]</td>\n",
       "    </tr>\n",
       "    <tr>\n",
       "      <th>1</th>\n",
       "      <td>18</td>\n",
       "      <td>male</td>\n",
       "      <td>33.770</td>\n",
       "      <td>1</td>\n",
       "      <td>no</td>\n",
       "      <td>1725.55230</td>\n",
       "      <td>[0, 0, 1, 0, 1, 0, 0, 0]</td>\n",
       "    </tr>\n",
       "    <tr>\n",
       "      <th>2</th>\n",
       "      <td>28</td>\n",
       "      <td>male</td>\n",
       "      <td>33.000</td>\n",
       "      <td>3</td>\n",
       "      <td>no</td>\n",
       "      <td>4449.46200</td>\n",
       "      <td>[0, 0, 1, 0, 1, 0, 0, 0]</td>\n",
       "    </tr>\n",
       "    <tr>\n",
       "      <th>3</th>\n",
       "      <td>33</td>\n",
       "      <td>male</td>\n",
       "      <td>22.705</td>\n",
       "      <td>0</td>\n",
       "      <td>no</td>\n",
       "      <td>21984.47061</td>\n",
       "      <td>[0, 1, 0, 0, 0, 0, 0, 1]</td>\n",
       "    </tr>\n",
       "    <tr>\n",
       "      <th>4</th>\n",
       "      <td>32</td>\n",
       "      <td>male</td>\n",
       "      <td>28.880</td>\n",
       "      <td>0</td>\n",
       "      <td>no</td>\n",
       "      <td>3866.85520</td>\n",
       "      <td>[0, 1, 0, 0, 0, 0, 0, 1]</td>\n",
       "    </tr>\n",
       "  </tbody>\n",
       "</table>\n",
       "</div>"
      ],
      "text/plain": [
       "   age     sex     bmi  children smoker      charges                regionsohe\n",
       "0   19  female  27.900         0    yes  16884.92400  [0, 0, 0, 1, 0, 1, 0, 0]\n",
       "1   18    male  33.770         1     no   1725.55230  [0, 0, 1, 0, 1, 0, 0, 0]\n",
       "2   28    male  33.000         3     no   4449.46200  [0, 0, 1, 0, 1, 0, 0, 0]\n",
       "3   33    male  22.705         0     no  21984.47061  [0, 1, 0, 0, 0, 0, 0, 1]\n",
       "4   32    male  28.880         0     no   3866.85520  [0, 1, 0, 0, 0, 0, 0, 1]"
      ]
     },
     "execution_count": 14,
     "metadata": {},
     "output_type": "execute_result"
    }
   ],
   "source": [
    "meddata.drop('region', axis = 1, inplace = True)\n",
    "meddata.head()"
   ]
  },
  {
   "cell_type": "code",
   "execution_count": 15,
   "id": "3337a42e",
   "metadata": {
    "execution": {
     "iopub.execute_input": "2022-06-10T17:59:26.557134Z",
     "iopub.status.busy": "2022-06-10T17:59:26.556474Z",
     "iopub.status.idle": "2022-06-10T17:59:26.582133Z",
     "shell.execute_reply": "2022-06-10T17:59:26.582690Z",
     "shell.execute_reply.started": "2022-02-08T18:28:00.517057Z"
    },
    "papermill": {
     "duration": 0.068024,
     "end_time": "2022-06-10T17:59:26.582861",
     "exception": false,
     "start_time": "2022-06-10T17:59:26.514837",
     "status": "completed"
    },
    "tags": []
   },
   "outputs": [
    {
     "data": {
      "text/html": [
       "<div>\n",
       "<style scoped>\n",
       "    .dataframe tbody tr th:only-of-type {\n",
       "        vertical-align: middle;\n",
       "    }\n",
       "\n",
       "    .dataframe tbody tr th {\n",
       "        vertical-align: top;\n",
       "    }\n",
       "\n",
       "    .dataframe thead th {\n",
       "        text-align: right;\n",
       "    }\n",
       "</style>\n",
       "<table border=\"1\" class=\"dataframe\">\n",
       "  <thead>\n",
       "    <tr style=\"text-align: right;\">\n",
       "      <th></th>\n",
       "      <th>age</th>\n",
       "      <th>sex</th>\n",
       "      <th>bmi</th>\n",
       "      <th>children</th>\n",
       "      <th>smoker</th>\n",
       "      <th>charges</th>\n",
       "      <th>reg0</th>\n",
       "      <th>reg1</th>\n",
       "      <th>reg2</th>\n",
       "      <th>reg3</th>\n",
       "      <th>reg4</th>\n",
       "      <th>reg5</th>\n",
       "      <th>reg6</th>\n",
       "      <th>reg7</th>\n",
       "    </tr>\n",
       "  </thead>\n",
       "  <tbody>\n",
       "    <tr>\n",
       "      <th>0</th>\n",
       "      <td>19</td>\n",
       "      <td>female</td>\n",
       "      <td>27.900</td>\n",
       "      <td>0</td>\n",
       "      <td>yes</td>\n",
       "      <td>16884.92400</td>\n",
       "      <td>0</td>\n",
       "      <td>0</td>\n",
       "      <td>0</td>\n",
       "      <td>1</td>\n",
       "      <td>0</td>\n",
       "      <td>1</td>\n",
       "      <td>0</td>\n",
       "      <td>0</td>\n",
       "    </tr>\n",
       "    <tr>\n",
       "      <th>1</th>\n",
       "      <td>18</td>\n",
       "      <td>male</td>\n",
       "      <td>33.770</td>\n",
       "      <td>1</td>\n",
       "      <td>no</td>\n",
       "      <td>1725.55230</td>\n",
       "      <td>0</td>\n",
       "      <td>0</td>\n",
       "      <td>1</td>\n",
       "      <td>0</td>\n",
       "      <td>1</td>\n",
       "      <td>0</td>\n",
       "      <td>0</td>\n",
       "      <td>0</td>\n",
       "    </tr>\n",
       "    <tr>\n",
       "      <th>2</th>\n",
       "      <td>28</td>\n",
       "      <td>male</td>\n",
       "      <td>33.000</td>\n",
       "      <td>3</td>\n",
       "      <td>no</td>\n",
       "      <td>4449.46200</td>\n",
       "      <td>0</td>\n",
       "      <td>0</td>\n",
       "      <td>1</td>\n",
       "      <td>0</td>\n",
       "      <td>1</td>\n",
       "      <td>0</td>\n",
       "      <td>0</td>\n",
       "      <td>0</td>\n",
       "    </tr>\n",
       "    <tr>\n",
       "      <th>3</th>\n",
       "      <td>33</td>\n",
       "      <td>male</td>\n",
       "      <td>22.705</td>\n",
       "      <td>0</td>\n",
       "      <td>no</td>\n",
       "      <td>21984.47061</td>\n",
       "      <td>0</td>\n",
       "      <td>1</td>\n",
       "      <td>0</td>\n",
       "      <td>0</td>\n",
       "      <td>0</td>\n",
       "      <td>0</td>\n",
       "      <td>0</td>\n",
       "      <td>1</td>\n",
       "    </tr>\n",
       "    <tr>\n",
       "      <th>4</th>\n",
       "      <td>32</td>\n",
       "      <td>male</td>\n",
       "      <td>28.880</td>\n",
       "      <td>0</td>\n",
       "      <td>no</td>\n",
       "      <td>3866.85520</td>\n",
       "      <td>0</td>\n",
       "      <td>1</td>\n",
       "      <td>0</td>\n",
       "      <td>0</td>\n",
       "      <td>0</td>\n",
       "      <td>0</td>\n",
       "      <td>0</td>\n",
       "      <td>1</td>\n",
       "    </tr>\n",
       "  </tbody>\n",
       "</table>\n",
       "</div>"
      ],
      "text/plain": [
       "   age     sex     bmi  children smoker      charges  reg0  reg1  reg2  reg3  \\\n",
       "0   19  female  27.900         0    yes  16884.92400     0     0     0     1   \n",
       "1   18    male  33.770         1     no   1725.55230     0     0     1     0   \n",
       "2   28    male  33.000         3     no   4449.46200     0     0     1     0   \n",
       "3   33    male  22.705         0     no  21984.47061     0     1     0     0   \n",
       "4   32    male  28.880         0     no   3866.85520     0     1     0     0   \n",
       "\n",
       "   reg4  reg5  reg6  reg7  \n",
       "0     0     1     0     0  \n",
       "1     1     0     0     0  \n",
       "2     1     0     0     0  \n",
       "3     0     0     0     1  \n",
       "4     0     0     0     1  "
      ]
     },
     "execution_count": 15,
     "metadata": {},
     "output_type": "execute_result"
    }
   ],
   "source": [
    "region2 = pd.DataFrame(meddata)\n",
    "region2[['reg0','reg1','reg2','reg3','reg4','reg5','reg6','reg7']] = pd.DataFrame(region2.regionsohe.tolist(),index = region2.index)\n",
    "region2.drop('regionsohe',axis =1, inplace = True)\n",
    "region2.head()"
   ]
  },
  {
   "cell_type": "code",
   "execution_count": 16,
   "id": "3b677ce0",
   "metadata": {
    "execution": {
     "iopub.execute_input": "2022-06-10T17:59:26.666125Z",
     "iopub.status.busy": "2022-06-10T17:59:26.665519Z",
     "iopub.status.idle": "2022-06-10T17:59:26.679090Z",
     "shell.execute_reply": "2022-06-10T17:59:26.679622Z",
     "shell.execute_reply.started": "2022-02-08T18:28:04.711943Z"
    },
    "papermill": {
     "duration": 0.056917,
     "end_time": "2022-06-10T17:59:26.679785",
     "exception": false,
     "start_time": "2022-06-10T17:59:26.622868",
     "status": "completed"
    },
    "tags": []
   },
   "outputs": [
    {
     "data": {
      "text/html": [
       "<div>\n",
       "<style scoped>\n",
       "    .dataframe tbody tr th:only-of-type {\n",
       "        vertical-align: middle;\n",
       "    }\n",
       "\n",
       "    .dataframe tbody tr th {\n",
       "        vertical-align: top;\n",
       "    }\n",
       "\n",
       "    .dataframe thead th {\n",
       "        text-align: right;\n",
       "    }\n",
       "</style>\n",
       "<table border=\"1\" class=\"dataframe\">\n",
       "  <thead>\n",
       "    <tr style=\"text-align: right;\">\n",
       "      <th></th>\n",
       "      <th>age</th>\n",
       "      <th>sex</th>\n",
       "      <th>bmi</th>\n",
       "      <th>children</th>\n",
       "      <th>smoker</th>\n",
       "      <th>charges</th>\n",
       "      <th>reg0</th>\n",
       "      <th>reg1</th>\n",
       "      <th>reg2</th>\n",
       "      <th>reg3</th>\n",
       "      <th>reg4</th>\n",
       "      <th>reg5</th>\n",
       "      <th>reg6</th>\n",
       "      <th>reg7</th>\n",
       "    </tr>\n",
       "  </thead>\n",
       "  <tbody>\n",
       "    <tr>\n",
       "      <th>0</th>\n",
       "      <td>19</td>\n",
       "      <td>female</td>\n",
       "      <td>27.900</td>\n",
       "      <td>0</td>\n",
       "      <td>yes</td>\n",
       "      <td>16884.92400</td>\n",
       "      <td>0</td>\n",
       "      <td>0</td>\n",
       "      <td>0</td>\n",
       "      <td>1</td>\n",
       "      <td>0</td>\n",
       "      <td>1</td>\n",
       "      <td>0</td>\n",
       "      <td>0</td>\n",
       "    </tr>\n",
       "    <tr>\n",
       "      <th>1</th>\n",
       "      <td>18</td>\n",
       "      <td>male</td>\n",
       "      <td>33.770</td>\n",
       "      <td>1</td>\n",
       "      <td>no</td>\n",
       "      <td>1725.55230</td>\n",
       "      <td>0</td>\n",
       "      <td>0</td>\n",
       "      <td>1</td>\n",
       "      <td>0</td>\n",
       "      <td>1</td>\n",
       "      <td>0</td>\n",
       "      <td>0</td>\n",
       "      <td>0</td>\n",
       "    </tr>\n",
       "    <tr>\n",
       "      <th>2</th>\n",
       "      <td>28</td>\n",
       "      <td>male</td>\n",
       "      <td>33.000</td>\n",
       "      <td>3</td>\n",
       "      <td>no</td>\n",
       "      <td>4449.46200</td>\n",
       "      <td>0</td>\n",
       "      <td>0</td>\n",
       "      <td>1</td>\n",
       "      <td>0</td>\n",
       "      <td>1</td>\n",
       "      <td>0</td>\n",
       "      <td>0</td>\n",
       "      <td>0</td>\n",
       "    </tr>\n",
       "    <tr>\n",
       "      <th>3</th>\n",
       "      <td>33</td>\n",
       "      <td>male</td>\n",
       "      <td>22.705</td>\n",
       "      <td>0</td>\n",
       "      <td>no</td>\n",
       "      <td>21984.47061</td>\n",
       "      <td>0</td>\n",
       "      <td>1</td>\n",
       "      <td>0</td>\n",
       "      <td>0</td>\n",
       "      <td>0</td>\n",
       "      <td>0</td>\n",
       "      <td>0</td>\n",
       "      <td>1</td>\n",
       "    </tr>\n",
       "    <tr>\n",
       "      <th>4</th>\n",
       "      <td>32</td>\n",
       "      <td>male</td>\n",
       "      <td>28.880</td>\n",
       "      <td>0</td>\n",
       "      <td>no</td>\n",
       "      <td>3866.85520</td>\n",
       "      <td>0</td>\n",
       "      <td>1</td>\n",
       "      <td>0</td>\n",
       "      <td>0</td>\n",
       "      <td>0</td>\n",
       "      <td>0</td>\n",
       "      <td>0</td>\n",
       "      <td>1</td>\n",
       "    </tr>\n",
       "  </tbody>\n",
       "</table>\n",
       "</div>"
      ],
      "text/plain": [
       "   age     sex     bmi  children smoker      charges  reg0  reg1  reg2  reg3  \\\n",
       "0   19  female  27.900         0    yes  16884.92400     0     0     0     1   \n",
       "1   18    male  33.770         1     no   1725.55230     0     0     1     0   \n",
       "2   28    male  33.000         3     no   4449.46200     0     0     1     0   \n",
       "3   33    male  22.705         0     no  21984.47061     0     1     0     0   \n",
       "4   32    male  28.880         0     no   3866.85520     0     1     0     0   \n",
       "\n",
       "   reg4  reg5  reg6  reg7  \n",
       "0     0     1     0     0  \n",
       "1     1     0     0     0  \n",
       "2     1     0     0     0  \n",
       "3     0     0     0     1  \n",
       "4     0     0     0     1  "
      ]
     },
     "execution_count": 16,
     "metadata": {},
     "output_type": "execute_result"
    }
   ],
   "source": [
    "meddata = pd.DataFrame(region2)\n",
    "meddata.head()"
   ]
  },
  {
   "cell_type": "code",
   "execution_count": 17,
   "id": "c1c8b0ba",
   "metadata": {
    "execution": {
     "iopub.execute_input": "2022-06-10T17:59:26.763351Z",
     "iopub.status.busy": "2022-06-10T17:59:26.762717Z",
     "iopub.status.idle": "2022-06-10T17:59:26.770860Z",
     "shell.execute_reply": "2022-06-10T17:59:26.771407Z",
     "shell.execute_reply.started": "2022-02-08T18:28:09.936804Z"
    },
    "papermill": {
     "duration": 0.051883,
     "end_time": "2022-06-10T17:59:26.771593",
     "exception": false,
     "start_time": "2022-06-10T17:59:26.719710",
     "status": "completed"
    },
    "tags": []
   },
   "outputs": [],
   "source": [
    "def binary_val(r):\n",
    "    if (r=='female'):\n",
    "        return 1\n",
    "    if (r == 'yes'):\n",
    "        return 1\n",
    "    else:\n",
    "        return 0\n",
    "meddata['sex']= meddata['sex'].apply(binary_val)\n",
    "meddata['smoker'] = meddata['smoker'].apply(binary_val)"
   ]
  },
  {
   "cell_type": "code",
   "execution_count": 18,
   "id": "f99544f1",
   "metadata": {
    "execution": {
     "iopub.execute_input": "2022-06-10T17:59:26.859809Z",
     "iopub.status.busy": "2022-06-10T17:59:26.859147Z",
     "iopub.status.idle": "2022-06-10T17:59:26.872398Z",
     "shell.execute_reply": "2022-06-10T17:59:26.871732Z",
     "shell.execute_reply.started": "2022-02-08T18:28:13.288679Z"
    },
    "papermill": {
     "duration": 0.059909,
     "end_time": "2022-06-10T17:59:26.872553",
     "exception": false,
     "start_time": "2022-06-10T17:59:26.812644",
     "status": "completed"
    },
    "tags": []
   },
   "outputs": [
    {
     "data": {
      "text/html": [
       "<div>\n",
       "<style scoped>\n",
       "    .dataframe tbody tr th:only-of-type {\n",
       "        vertical-align: middle;\n",
       "    }\n",
       "\n",
       "    .dataframe tbody tr th {\n",
       "        vertical-align: top;\n",
       "    }\n",
       "\n",
       "    .dataframe thead th {\n",
       "        text-align: right;\n",
       "    }\n",
       "</style>\n",
       "<table border=\"1\" class=\"dataframe\">\n",
       "  <thead>\n",
       "    <tr style=\"text-align: right;\">\n",
       "      <th></th>\n",
       "      <th>age</th>\n",
       "      <th>sex</th>\n",
       "      <th>bmi</th>\n",
       "      <th>children</th>\n",
       "      <th>smoker</th>\n",
       "      <th>charges</th>\n",
       "      <th>reg0</th>\n",
       "      <th>reg1</th>\n",
       "      <th>reg2</th>\n",
       "      <th>reg3</th>\n",
       "      <th>reg4</th>\n",
       "      <th>reg5</th>\n",
       "      <th>reg6</th>\n",
       "      <th>reg7</th>\n",
       "    </tr>\n",
       "  </thead>\n",
       "  <tbody>\n",
       "    <tr>\n",
       "      <th>0</th>\n",
       "      <td>19</td>\n",
       "      <td>1</td>\n",
       "      <td>27.900</td>\n",
       "      <td>0</td>\n",
       "      <td>1</td>\n",
       "      <td>16884.92400</td>\n",
       "      <td>0</td>\n",
       "      <td>0</td>\n",
       "      <td>0</td>\n",
       "      <td>1</td>\n",
       "      <td>0</td>\n",
       "      <td>1</td>\n",
       "      <td>0</td>\n",
       "      <td>0</td>\n",
       "    </tr>\n",
       "    <tr>\n",
       "      <th>1</th>\n",
       "      <td>18</td>\n",
       "      <td>0</td>\n",
       "      <td>33.770</td>\n",
       "      <td>1</td>\n",
       "      <td>0</td>\n",
       "      <td>1725.55230</td>\n",
       "      <td>0</td>\n",
       "      <td>0</td>\n",
       "      <td>1</td>\n",
       "      <td>0</td>\n",
       "      <td>1</td>\n",
       "      <td>0</td>\n",
       "      <td>0</td>\n",
       "      <td>0</td>\n",
       "    </tr>\n",
       "    <tr>\n",
       "      <th>2</th>\n",
       "      <td>28</td>\n",
       "      <td>0</td>\n",
       "      <td>33.000</td>\n",
       "      <td>3</td>\n",
       "      <td>0</td>\n",
       "      <td>4449.46200</td>\n",
       "      <td>0</td>\n",
       "      <td>0</td>\n",
       "      <td>1</td>\n",
       "      <td>0</td>\n",
       "      <td>1</td>\n",
       "      <td>0</td>\n",
       "      <td>0</td>\n",
       "      <td>0</td>\n",
       "    </tr>\n",
       "    <tr>\n",
       "      <th>3</th>\n",
       "      <td>33</td>\n",
       "      <td>0</td>\n",
       "      <td>22.705</td>\n",
       "      <td>0</td>\n",
       "      <td>0</td>\n",
       "      <td>21984.47061</td>\n",
       "      <td>0</td>\n",
       "      <td>1</td>\n",
       "      <td>0</td>\n",
       "      <td>0</td>\n",
       "      <td>0</td>\n",
       "      <td>0</td>\n",
       "      <td>0</td>\n",
       "      <td>1</td>\n",
       "    </tr>\n",
       "    <tr>\n",
       "      <th>4</th>\n",
       "      <td>32</td>\n",
       "      <td>0</td>\n",
       "      <td>28.880</td>\n",
       "      <td>0</td>\n",
       "      <td>0</td>\n",
       "      <td>3866.85520</td>\n",
       "      <td>0</td>\n",
       "      <td>1</td>\n",
       "      <td>0</td>\n",
       "      <td>0</td>\n",
       "      <td>0</td>\n",
       "      <td>0</td>\n",
       "      <td>0</td>\n",
       "      <td>1</td>\n",
       "    </tr>\n",
       "  </tbody>\n",
       "</table>\n",
       "</div>"
      ],
      "text/plain": [
       "   age  sex     bmi  children  smoker      charges  reg0  reg1  reg2  reg3  \\\n",
       "0   19    1  27.900         0       1  16884.92400     0     0     0     1   \n",
       "1   18    0  33.770         1       0   1725.55230     0     0     1     0   \n",
       "2   28    0  33.000         3       0   4449.46200     0     0     1     0   \n",
       "3   33    0  22.705         0       0  21984.47061     0     1     0     0   \n",
       "4   32    0  28.880         0       0   3866.85520     0     1     0     0   \n",
       "\n",
       "   reg4  reg5  reg6  reg7  \n",
       "0     0     1     0     0  \n",
       "1     1     0     0     0  \n",
       "2     1     0     0     0  \n",
       "3     0     0     0     1  \n",
       "4     0     0     0     1  "
      ]
     },
     "execution_count": 18,
     "metadata": {},
     "output_type": "execute_result"
    }
   ],
   "source": [
    "meddata.head()"
   ]
  },
  {
   "cell_type": "code",
   "execution_count": 19,
   "id": "681d5574",
   "metadata": {
    "execution": {
     "iopub.execute_input": "2022-06-10T17:59:26.959673Z",
     "iopub.status.busy": "2022-06-10T17:59:26.958998Z",
     "iopub.status.idle": "2022-06-10T17:59:26.962908Z",
     "shell.execute_reply": "2022-06-10T17:59:26.962435Z",
     "shell.execute_reply.started": "2022-02-08T18:31:12.397084Z"
    },
    "papermill": {
     "duration": 0.049749,
     "end_time": "2022-06-10T17:59:26.963050",
     "exception": false,
     "start_time": "2022-06-10T17:59:26.913301",
     "status": "completed"
    },
    "tags": []
   },
   "outputs": [],
   "source": [
    "X = meddata.drop('charges',axis =1)\n",
    "y = meddata['charges']"
   ]
  },
  {
   "cell_type": "code",
   "execution_count": 20,
   "id": "605914cd",
   "metadata": {
    "execution": {
     "iopub.execute_input": "2022-06-10T17:59:27.050116Z",
     "iopub.status.busy": "2022-06-10T17:59:27.049454Z",
     "iopub.status.idle": "2022-06-10T17:59:27.176404Z",
     "shell.execute_reply": "2022-06-10T17:59:27.175835Z",
     "shell.execute_reply.started": "2022-02-08T18:32:36.224026Z"
    },
    "papermill": {
     "duration": 0.172234,
     "end_time": "2022-06-10T17:59:27.176540",
     "exception": false,
     "start_time": "2022-06-10T17:59:27.004306",
     "status": "completed"
    },
    "tags": []
   },
   "outputs": [],
   "source": [
    "from sklearn.linear_model import LinearRegression\n",
    "from sklearn.model_selection import train_test_split\n",
    "X_train, X_test , y_train, y_test = train_test_split(X,y,test_size = 0.2, random_state = 42)"
   ]
  },
  {
   "cell_type": "code",
   "execution_count": 21,
   "id": "71274d71",
   "metadata": {
    "execution": {
     "iopub.execute_input": "2022-06-10T17:59:27.262769Z",
     "iopub.status.busy": "2022-06-10T17:59:27.261888Z",
     "iopub.status.idle": "2022-06-10T17:59:27.272865Z",
     "shell.execute_reply": "2022-06-10T17:59:27.273403Z",
     "shell.execute_reply.started": "2022-02-08T18:32:39.453635Z"
    },
    "papermill": {
     "duration": 0.056966,
     "end_time": "2022-06-10T17:59:27.273567",
     "exception": false,
     "start_time": "2022-06-10T17:59:27.216601",
     "status": "completed"
    },
    "tags": []
   },
   "outputs": [
    {
     "data": {
      "text/html": [
       "<div>\n",
       "<style scoped>\n",
       "    .dataframe tbody tr th:only-of-type {\n",
       "        vertical-align: middle;\n",
       "    }\n",
       "\n",
       "    .dataframe tbody tr th {\n",
       "        vertical-align: top;\n",
       "    }\n",
       "\n",
       "    .dataframe thead th {\n",
       "        text-align: right;\n",
       "    }\n",
       "</style>\n",
       "<table border=\"1\" class=\"dataframe\">\n",
       "  <thead>\n",
       "    <tr style=\"text-align: right;\">\n",
       "      <th></th>\n",
       "      <th>age</th>\n",
       "      <th>sex</th>\n",
       "      <th>bmi</th>\n",
       "      <th>children</th>\n",
       "      <th>smoker</th>\n",
       "      <th>reg0</th>\n",
       "      <th>reg1</th>\n",
       "      <th>reg2</th>\n",
       "      <th>reg3</th>\n",
       "      <th>reg4</th>\n",
       "      <th>reg5</th>\n",
       "      <th>reg6</th>\n",
       "      <th>reg7</th>\n",
       "    </tr>\n",
       "  </thead>\n",
       "  <tbody>\n",
       "    <tr>\n",
       "      <th>560</th>\n",
       "      <td>46</td>\n",
       "      <td>1</td>\n",
       "      <td>19.95</td>\n",
       "      <td>2</td>\n",
       "      <td>0</td>\n",
       "      <td>0</td>\n",
       "      <td>1</td>\n",
       "      <td>0</td>\n",
       "      <td>0</td>\n",
       "      <td>0</td>\n",
       "      <td>0</td>\n",
       "      <td>0</td>\n",
       "      <td>1</td>\n",
       "    </tr>\n",
       "    <tr>\n",
       "      <th>1285</th>\n",
       "      <td>47</td>\n",
       "      <td>1</td>\n",
       "      <td>24.32</td>\n",
       "      <td>0</td>\n",
       "      <td>0</td>\n",
       "      <td>1</td>\n",
       "      <td>0</td>\n",
       "      <td>0</td>\n",
       "      <td>0</td>\n",
       "      <td>0</td>\n",
       "      <td>0</td>\n",
       "      <td>1</td>\n",
       "      <td>0</td>\n",
       "    </tr>\n",
       "    <tr>\n",
       "      <th>1142</th>\n",
       "      <td>52</td>\n",
       "      <td>1</td>\n",
       "      <td>24.86</td>\n",
       "      <td>0</td>\n",
       "      <td>0</td>\n",
       "      <td>0</td>\n",
       "      <td>0</td>\n",
       "      <td>1</td>\n",
       "      <td>0</td>\n",
       "      <td>1</td>\n",
       "      <td>0</td>\n",
       "      <td>0</td>\n",
       "      <td>0</td>\n",
       "    </tr>\n",
       "    <tr>\n",
       "      <th>969</th>\n",
       "      <td>39</td>\n",
       "      <td>1</td>\n",
       "      <td>34.32</td>\n",
       "      <td>5</td>\n",
       "      <td>0</td>\n",
       "      <td>0</td>\n",
       "      <td>0</td>\n",
       "      <td>1</td>\n",
       "      <td>0</td>\n",
       "      <td>1</td>\n",
       "      <td>0</td>\n",
       "      <td>0</td>\n",
       "      <td>0</td>\n",
       "    </tr>\n",
       "    <tr>\n",
       "      <th>486</th>\n",
       "      <td>54</td>\n",
       "      <td>1</td>\n",
       "      <td>21.47</td>\n",
       "      <td>3</td>\n",
       "      <td>0</td>\n",
       "      <td>0</td>\n",
       "      <td>1</td>\n",
       "      <td>0</td>\n",
       "      <td>0</td>\n",
       "      <td>0</td>\n",
       "      <td>0</td>\n",
       "      <td>0</td>\n",
       "      <td>1</td>\n",
       "    </tr>\n",
       "  </tbody>\n",
       "</table>\n",
       "</div>"
      ],
      "text/plain": [
       "      age  sex    bmi  children  smoker  reg0  reg1  reg2  reg3  reg4  reg5  \\\n",
       "560    46    1  19.95         2       0     0     1     0     0     0     0   \n",
       "1285   47    1  24.32         0       0     1     0     0     0     0     0   \n",
       "1142   52    1  24.86         0       0     0     0     1     0     1     0   \n",
       "969    39    1  34.32         5       0     0     0     1     0     1     0   \n",
       "486    54    1  21.47         3       0     0     1     0     0     0     0   \n",
       "\n",
       "      reg6  reg7  \n",
       "560      0     1  \n",
       "1285     1     0  \n",
       "1142     0     0  \n",
       "969      0     0  \n",
       "486      0     1  "
      ]
     },
     "execution_count": 21,
     "metadata": {},
     "output_type": "execute_result"
    }
   ],
   "source": [
    "X_train.head()"
   ]
  },
  {
   "cell_type": "code",
   "execution_count": 22,
   "id": "7f086884",
   "metadata": {
    "execution": {
     "iopub.execute_input": "2022-06-10T17:59:27.362118Z",
     "iopub.status.busy": "2022-06-10T17:59:27.361488Z",
     "iopub.status.idle": "2022-06-10T17:59:27.364516Z",
     "shell.execute_reply": "2022-06-10T17:59:27.365092Z",
     "shell.execute_reply.started": "2022-02-08T18:32:41.805391Z"
    },
    "papermill": {
     "duration": 0.050794,
     "end_time": "2022-06-10T17:59:27.365251",
     "exception": false,
     "start_time": "2022-06-10T17:59:27.314457",
     "status": "completed"
    },
    "tags": []
   },
   "outputs": [
    {
     "data": {
      "text/plain": [
       "560      9193.83850\n",
       "1285     8534.67180\n",
       "1142    27117.99378\n",
       "969      8596.82780\n",
       "486     12475.35130\n",
       "Name: charges, dtype: float64"
      ]
     },
     "execution_count": 22,
     "metadata": {},
     "output_type": "execute_result"
    }
   ],
   "source": [
    "y_train.head()"
   ]
  },
  {
   "cell_type": "code",
   "execution_count": 23,
   "id": "b6c23450",
   "metadata": {
    "execution": {
     "iopub.execute_input": "2022-06-10T17:59:27.450468Z",
     "iopub.status.busy": "2022-06-10T17:59:27.449835Z",
     "iopub.status.idle": "2022-06-10T17:59:37.371107Z",
     "shell.execute_reply": "2022-06-10T17:59:37.370559Z",
     "shell.execute_reply.started": "2022-02-08T18:33:11.514172Z"
    },
    "papermill": {
     "duration": 9.965079,
     "end_time": "2022-06-10T17:59:37.371248",
     "exception": false,
     "start_time": "2022-06-10T17:59:27.406169",
     "status": "completed"
    },
    "tags": []
   },
   "outputs": [
    {
     "name": "stderr",
     "output_type": "stream",
     "text": [
      "\n",
      "User settings:\n",
      "\n",
      "   KMP_AFFINITY=granularity=fine,noverbose,compact,1,0\n",
      "   KMP_BLOCKTIME=0\n",
      "   KMP_DUPLICATE_LIB_OK=True\n",
      "   KMP_INIT_AT_FORK=FALSE\n",
      "   KMP_SETTINGS=1\n",
      "   KMP_WARNINGS=0\n",
      "\n",
      "Effective settings:\n",
      "\n",
      "   KMP_ABORT_DELAY=0\n",
      "   KMP_ADAPTIVE_LOCK_PROPS='1,1024'\n",
      "   KMP_ALIGN_ALLOC=64\n",
      "   KMP_ALL_THREADPRIVATE=128\n",
      "   KMP_ATOMIC_MODE=2\n",
      "   KMP_BLOCKTIME=0\n",
      "   KMP_CPUINFO_FILE: value is not defined\n",
      "   KMP_DETERMINISTIC_REDUCTION=false\n",
      "   KMP_DEVICE_THREAD_LIMIT=2147483647\n",
      "   KMP_DISP_NUM_BUFFERS=7\n",
      "   KMP_DUPLICATE_LIB_OK=true\n",
      "   KMP_ENABLE_TASK_THROTTLING=true\n",
      "   KMP_FORCE_REDUCTION: value is not defined\n",
      "   KMP_FOREIGN_THREADS_THREADPRIVATE=true\n",
      "   KMP_FORKJOIN_BARRIER='2,2'\n",
      "   KMP_FORKJOIN_BARRIER_PATTERN='hyper,hyper'\n",
      "   KMP_GTID_MODE=3\n",
      "   KMP_HANDLE_SIGNALS=false\n",
      "   KMP_HOT_TEAMS_MAX_LEVEL=1\n",
      "   KMP_HOT_TEAMS_MODE=0\n",
      "   KMP_INIT_AT_FORK=true\n",
      "   KMP_LIBRARY=throughput\n",
      "   KMP_LOCK_KIND=queuing\n",
      "   KMP_MALLOC_POOL_INCR=1M\n",
      "   KMP_NUM_LOCKS_IN_BLOCK=1\n",
      "   KMP_PLAIN_BARRIER='2,2'\n",
      "   KMP_PLAIN_BARRIER_PATTERN='hyper,hyper'\n",
      "   KMP_REDUCTION_BARRIER='1,1'\n",
      "   KMP_REDUCTION_BARRIER_PATTERN='hyper,hyper'\n",
      "   KMP_SCHEDULE='static,balanced;guided,iterative'\n",
      "   KMP_SETTINGS=true\n",
      "   KMP_SPIN_BACKOFF_PARAMS='4096,100'\n",
      "   KMP_STACKOFFSET=64\n",
      "   KMP_STACKPAD=0\n",
      "   KMP_STACKSIZE=8M\n",
      "   KMP_STORAGE_MAP=false\n",
      "   KMP_TASKING=2\n",
      "   KMP_TASKLOOP_MIN_TASKS=0\n",
      "   KMP_TASK_STEALING_CONSTRAINT=1\n",
      "   KMP_TEAMS_THREAD_LIMIT=4\n",
      "   KMP_TOPOLOGY_METHOD=all\n",
      "   KMP_USE_YIELD=1\n",
      "   KMP_VERSION=false\n",
      "   KMP_WARNINGS=false\n",
      "   OMP_AFFINITY_FORMAT='OMP: pid %P tid %i thread %n bound to OS proc set {%A}'\n",
      "   OMP_ALLOCATOR=omp_default_mem_alloc\n",
      "   OMP_CANCELLATION=false\n",
      "   OMP_DEFAULT_DEVICE=0\n",
      "   OMP_DISPLAY_AFFINITY=false\n",
      "   OMP_DISPLAY_ENV=false\n",
      "   OMP_DYNAMIC=false\n",
      "   OMP_MAX_ACTIVE_LEVELS=1\n",
      "   OMP_MAX_TASK_PRIORITY=0\n",
      "   OMP_NESTED: deprecated; max-active-levels-var=1\n",
      "   OMP_NUM_THREADS: value is not defined\n",
      "   OMP_PLACES: value is not defined\n",
      "   OMP_PROC_BIND='intel'\n",
      "   OMP_SCHEDULE='static'\n",
      "   OMP_STACKSIZE=8M\n",
      "   OMP_TARGET_OFFLOAD=DEFAULT\n",
      "   OMP_THREAD_LIMIT=2147483647\n",
      "   OMP_WAIT_POLICY=PASSIVE\n",
      "   KMP_AFFINITY='noverbose,warnings,respect,granularity=fine,compact,1,0'\n",
      "\n",
      "2022-06-10 17:59:28.604030: I tensorflow/core/common_runtime/process_util.cc:146] Creating new thread pool with default inter op setting: 2. Tune using inter_op_parallelism_threads for best performance.\n",
      "2022-06-10 17:59:28.785173: I tensorflow/compiler/mlir/mlir_graph_optimization_pass.cc:185] None of the MLIR Optimization Passes are enabled (registered 2)\n"
     ]
    },
    {
     "name": "stdout",
     "output_type": "stream",
     "text": [
      "Epoch 1/100\n",
      "34/34 [==============================] - 1s 3ms/step - loss: 13320.3203 - mae: 13320.3203\n",
      "Epoch 2/100\n",
      "34/34 [==============================] - 0s 2ms/step - loss: 13093.5879 - mae: 13093.5879\n",
      "Epoch 3/100\n",
      "34/34 [==============================] - 0s 2ms/step - loss: 11886.6963 - mae: 11886.6963\n",
      "Epoch 4/100\n",
      "34/34 [==============================] - 0s 2ms/step - loss: 8760.0107 - mae: 8760.0107\n",
      "Epoch 5/100\n",
      "34/34 [==============================] - 0s 2ms/step - loss: 7501.0981 - mae: 7501.0981\n",
      "Epoch 6/100\n",
      "34/34 [==============================] - 0s 2ms/step - loss: 7439.5552 - mae: 7439.5552\n",
      "Epoch 7/100\n",
      "34/34 [==============================] - 0s 2ms/step - loss: 7399.8652 - mae: 7399.8652\n",
      "Epoch 8/100\n",
      "34/34 [==============================] - 0s 2ms/step - loss: 7364.1626 - mae: 7364.1626\n",
      "Epoch 9/100\n",
      "34/34 [==============================] - 0s 2ms/step - loss: 7330.4204 - mae: 7330.4204\n",
      "Epoch 10/100\n",
      "34/34 [==============================] - 0s 2ms/step - loss: 7287.8062 - mae: 7287.8062\n",
      "Epoch 11/100\n",
      "34/34 [==============================] - 0s 2ms/step - loss: 7255.3687 - mae: 7255.3687\n",
      "Epoch 12/100\n",
      "34/34 [==============================] - 0s 2ms/step - loss: 7214.9102 - mae: 7214.9102\n",
      "Epoch 13/100\n",
      "34/34 [==============================] - 0s 2ms/step - loss: 7176.0181 - mae: 7176.0181\n",
      "Epoch 14/100\n",
      "34/34 [==============================] - 0s 2ms/step - loss: 7143.9204 - mae: 7143.9204\n",
      "Epoch 15/100\n",
      "34/34 [==============================] - 0s 2ms/step - loss: 7106.2798 - mae: 7106.2798\n",
      "Epoch 16/100\n",
      "34/34 [==============================] - 0s 2ms/step - loss: 7053.2617 - mae: 7053.2617\n",
      "Epoch 17/100\n",
      "34/34 [==============================] - 0s 2ms/step - loss: 7005.0171 - mae: 7005.0171\n",
      "Epoch 18/100\n",
      "34/34 [==============================] - 0s 2ms/step - loss: 6960.4590 - mae: 6960.4590\n",
      "Epoch 19/100\n",
      "34/34 [==============================] - 0s 2ms/step - loss: 6916.8804 - mae: 6916.8804\n",
      "Epoch 20/100\n",
      "34/34 [==============================] - 0s 2ms/step - loss: 6870.4458 - mae: 6870.4458\n",
      "Epoch 21/100\n",
      "34/34 [==============================] - 0s 2ms/step - loss: 6812.5488 - mae: 6812.5488\n",
      "Epoch 22/100\n",
      "34/34 [==============================] - 0s 2ms/step - loss: 6766.1357 - mae: 6766.1357\n",
      "Epoch 23/100\n",
      "34/34 [==============================] - 0s 2ms/step - loss: 6715.7407 - mae: 6715.7407\n",
      "Epoch 24/100\n",
      "34/34 [==============================] - 0s 2ms/step - loss: 6674.9854 - mae: 6674.9854\n",
      "Epoch 25/100\n",
      "34/34 [==============================] - 0s 2ms/step - loss: 6637.8774 - mae: 6637.8774\n",
      "Epoch 26/100\n",
      "34/34 [==============================] - 0s 2ms/step - loss: 6604.7183 - mae: 6604.7183\n",
      "Epoch 27/100\n",
      "34/34 [==============================] - 0s 2ms/step - loss: 6588.3232 - mae: 6588.3232\n",
      "Epoch 28/100\n",
      "34/34 [==============================] - 0s 2ms/step - loss: 6565.8579 - mae: 6565.8579\n",
      "Epoch 29/100\n",
      "34/34 [==============================] - 0s 2ms/step - loss: 6555.2217 - mae: 6555.2217\n",
      "Epoch 30/100\n",
      "34/34 [==============================] - 0s 2ms/step - loss: 6538.9209 - mae: 6538.9209\n",
      "Epoch 31/100\n",
      "34/34 [==============================] - 0s 2ms/step - loss: 6525.1577 - mae: 6525.1577\n",
      "Epoch 32/100\n",
      "34/34 [==============================] - 0s 2ms/step - loss: 6509.9268 - mae: 6509.9268\n",
      "Epoch 33/100\n",
      "34/34 [==============================] - 0s 2ms/step - loss: 6494.7090 - mae: 6494.7090\n",
      "Epoch 34/100\n",
      "34/34 [==============================] - 0s 2ms/step - loss: 6481.2910 - mae: 6481.2910\n",
      "Epoch 35/100\n",
      "34/34 [==============================] - 0s 2ms/step - loss: 6467.9131 - mae: 6467.9131\n",
      "Epoch 36/100\n",
      "34/34 [==============================] - 0s 2ms/step - loss: 6454.1787 - mae: 6454.1787\n",
      "Epoch 37/100\n",
      "34/34 [==============================] - 0s 2ms/step - loss: 6436.6797 - mae: 6436.6797\n",
      "Epoch 38/100\n",
      "34/34 [==============================] - 0s 2ms/step - loss: 6417.5073 - mae: 6417.5073\n",
      "Epoch 39/100\n",
      "34/34 [==============================] - 0s 2ms/step - loss: 6404.5132 - mae: 6404.5132\n",
      "Epoch 40/100\n",
      "34/34 [==============================] - 0s 2ms/step - loss: 6389.7144 - mae: 6389.7144\n",
      "Epoch 41/100\n",
      "34/34 [==============================] - 0s 2ms/step - loss: 6375.8008 - mae: 6375.8008\n",
      "Epoch 42/100\n",
      "34/34 [==============================] - 0s 2ms/step - loss: 6351.7148 - mae: 6351.7148\n",
      "Epoch 43/100\n",
      "34/34 [==============================] - 0s 2ms/step - loss: 6332.5620 - mae: 6332.5620\n",
      "Epoch 44/100\n",
      "34/34 [==============================] - 0s 2ms/step - loss: 6304.5190 - mae: 6304.5190\n",
      "Epoch 45/100\n",
      "34/34 [==============================] - 0s 2ms/step - loss: 6278.8589 - mae: 6278.8589\n",
      "Epoch 46/100\n",
      "34/34 [==============================] - 0s 2ms/step - loss: 6253.4590 - mae: 6253.4590\n",
      "Epoch 47/100\n",
      "34/34 [==============================] - 0s 2ms/step - loss: 6225.5942 - mae: 6225.5942\n",
      "Epoch 48/100\n",
      "34/34 [==============================] - 0s 2ms/step - loss: 6187.3228 - mae: 6187.3228\n",
      "Epoch 49/100\n",
      "34/34 [==============================] - 0s 2ms/step - loss: 6159.8584 - mae: 6159.8584\n",
      "Epoch 50/100\n",
      "34/34 [==============================] - 0s 2ms/step - loss: 6114.5303 - mae: 6114.5303\n",
      "Epoch 51/100\n",
      "34/34 [==============================] - 0s 2ms/step - loss: 6067.5439 - mae: 6067.5439\n",
      "Epoch 52/100\n",
      "34/34 [==============================] - 0s 2ms/step - loss: 6028.1880 - mae: 6028.1880\n",
      "Epoch 53/100\n",
      "34/34 [==============================] - 0s 4ms/step - loss: 5987.0093 - mae: 5987.0093\n",
      "Epoch 54/100\n",
      "34/34 [==============================] - 0s 2ms/step - loss: 5903.8223 - mae: 5903.8223\n",
      "Epoch 55/100\n",
      "34/34 [==============================] - 0s 2ms/step - loss: 5828.4619 - mae: 5828.4619\n",
      "Epoch 56/100\n",
      "34/34 [==============================] - 0s 2ms/step - loss: 5751.3511 - mae: 5751.3511\n",
      "Epoch 57/100\n",
      "34/34 [==============================] - 0s 2ms/step - loss: 5641.9971 - mae: 5641.9971\n",
      "Epoch 58/100\n",
      "34/34 [==============================] - 0s 2ms/step - loss: 5547.1592 - mae: 5547.1592\n",
      "Epoch 59/100\n",
      "34/34 [==============================] - 0s 2ms/step - loss: 5394.9307 - mae: 5394.9307\n",
      "Epoch 60/100\n",
      "34/34 [==============================] - 0s 3ms/step - loss: 5226.1426 - mae: 5226.1426\n",
      "Epoch 61/100\n",
      "34/34 [==============================] - 0s 3ms/step - loss: 5050.7178 - mae: 5050.7178\n",
      "Epoch 62/100\n",
      "34/34 [==============================] - 0s 2ms/step - loss: 4845.6826 - mae: 4845.6826\n",
      "Epoch 63/100\n",
      "34/34 [==============================] - 0s 2ms/step - loss: 4559.9365 - mae: 4559.9365\n",
      "Epoch 64/100\n",
      "34/34 [==============================] - 0s 2ms/step - loss: 4280.8345 - mae: 4280.8345\n",
      "Epoch 65/100\n",
      "34/34 [==============================] - 0s 2ms/step - loss: 4033.2266 - mae: 4033.2266\n",
      "Epoch 66/100\n",
      "34/34 [==============================] - 0s 2ms/step - loss: 3859.6428 - mae: 3859.6428\n",
      "Epoch 67/100\n",
      "34/34 [==============================] - 0s 2ms/step - loss: 3734.3562 - mae: 3734.3562\n",
      "Epoch 68/100\n",
      "34/34 [==============================] - 0s 2ms/step - loss: 3659.5491 - mae: 3659.5491\n",
      "Epoch 69/100\n",
      "34/34 [==============================] - 0s 2ms/step - loss: 3625.9414 - mae: 3625.9414\n",
      "Epoch 70/100\n",
      "34/34 [==============================] - 0s 2ms/step - loss: 3603.7903 - mae: 3603.7903\n",
      "Epoch 71/100\n",
      "34/34 [==============================] - 0s 2ms/step - loss: 3581.5081 - mae: 3581.5081\n",
      "Epoch 72/100\n",
      "34/34 [==============================] - 0s 2ms/step - loss: 3543.2852 - mae: 3543.2852\n",
      "Epoch 73/100\n",
      "34/34 [==============================] - 0s 2ms/step - loss: 3530.4492 - mae: 3530.4492\n",
      "Epoch 74/100\n",
      "34/34 [==============================] - 0s 2ms/step - loss: 3512.1509 - mae: 3512.1509\n",
      "Epoch 75/100\n",
      "34/34 [==============================] - 0s 2ms/step - loss: 3501.1970 - mae: 3501.1970\n",
      "Epoch 76/100\n",
      "34/34 [==============================] - 0s 2ms/step - loss: 3481.6558 - mae: 3481.6558\n",
      "Epoch 77/100\n",
      "34/34 [==============================] - 0s 2ms/step - loss: 3473.0396 - mae: 3473.0396\n",
      "Epoch 78/100\n",
      "34/34 [==============================] - 0s 2ms/step - loss: 3448.2275 - mae: 3448.2275\n",
      "Epoch 79/100\n",
      "34/34 [==============================] - 0s 2ms/step - loss: 3449.2864 - mae: 3449.2864\n",
      "Epoch 80/100\n",
      "34/34 [==============================] - 0s 2ms/step - loss: 3416.6782 - mae: 3416.6782\n",
      "Epoch 81/100\n",
      "34/34 [==============================] - 0s 2ms/step - loss: 3414.4934 - mae: 3414.4934\n",
      "Epoch 82/100\n",
      "34/34 [==============================] - 0s 2ms/step - loss: 3388.3276 - mae: 3388.3276\n",
      "Epoch 83/100\n",
      "34/34 [==============================] - 0s 2ms/step - loss: 3376.7847 - mae: 3376.7847\n",
      "Epoch 84/100\n",
      "34/34 [==============================] - 0s 2ms/step - loss: 3370.9407 - mae: 3370.9407\n",
      "Epoch 85/100\n",
      "34/34 [==============================] - 0s 2ms/step - loss: 3339.2092 - mae: 3339.2092\n",
      "Epoch 86/100\n",
      "34/34 [==============================] - 0s 2ms/step - loss: 3342.8704 - mae: 3342.8704\n",
      "Epoch 87/100\n",
      "34/34 [==============================] - 0s 2ms/step - loss: 3320.9841 - mae: 3320.9841\n",
      "Epoch 88/100\n",
      "34/34 [==============================] - 0s 2ms/step - loss: 3310.9724 - mae: 3310.9724\n",
      "Epoch 89/100\n",
      "34/34 [==============================] - 0s 2ms/step - loss: 3296.0681 - mae: 3296.0681\n",
      "Epoch 90/100\n",
      "34/34 [==============================] - 0s 2ms/step - loss: 3313.7744 - mae: 3313.7744\n",
      "Epoch 91/100\n",
      "34/34 [==============================] - 0s 2ms/step - loss: 3271.1333 - mae: 3271.1333\n",
      "Epoch 92/100\n",
      "34/34 [==============================] - 0s 2ms/step - loss: 3266.5454 - mae: 3266.5454\n",
      "Epoch 93/100\n",
      "34/34 [==============================] - 0s 2ms/step - loss: 3241.9756 - mae: 3241.9756\n",
      "Epoch 94/100\n",
      "34/34 [==============================] - 0s 2ms/step - loss: 3234.4302 - mae: 3234.4302\n",
      "Epoch 95/100\n",
      "34/34 [==============================] - 0s 2ms/step - loss: 3238.6680 - mae: 3238.6680\n",
      "Epoch 96/100\n",
      "34/34 [==============================] - 0s 2ms/step - loss: 3212.6045 - mae: 3212.6045\n",
      "Epoch 97/100\n",
      "34/34 [==============================] - 0s 2ms/step - loss: 3191.4380 - mae: 3191.4380\n",
      "Epoch 98/100\n",
      "34/34 [==============================] - 0s 2ms/step - loss: 3189.8098 - mae: 3189.8098\n",
      "Epoch 99/100\n",
      "34/34 [==============================] - 0s 2ms/step - loss: 3176.3535 - mae: 3176.3535\n",
      "Epoch 100/100\n",
      "34/34 [==============================] - 0s 2ms/step - loss: 3183.1331 - mae: 3183.1331\n"
     ]
    },
    {
     "data": {
      "text/plain": [
       "<keras.callbacks.History at 0x7efcef69ea10>"
      ]
     },
     "execution_count": 23,
     "metadata": {},
     "output_type": "execute_result"
    }
   ],
   "source": [
    "model2 = tf.keras.Sequential([\n",
    "       tf.keras.Input(shape = (13,)),\n",
    "       tf.keras.layers.Dense(100,activation = 'relu'),\n",
    "       tf.keras.layers.Dense(50,activation = 'relu'),\n",
    "       tf.keras.layers.Dense(50, activation = 'relu'),\n",
    "       tf.keras.layers.Dense(1,activation = None)\n",
    "])\n",
    "\n",
    "model2.compile(loss = tf.keras.losses.mae,\n",
    "              optimizer = tf.keras.optimizers.Adam(),\n",
    "              metrics = ['mae']\n",
    "             \n",
    ")\n",
    "\n",
    "model2.fit(X_train,y_train, epochs = 100)"
   ]
  },
  {
   "cell_type": "code",
   "execution_count": 24,
   "id": "20960ed8",
   "metadata": {
    "execution": {
     "iopub.execute_input": "2022-06-10T17:59:37.641726Z",
     "iopub.status.busy": "2022-06-10T17:59:37.641122Z",
     "iopub.status.idle": "2022-06-10T17:59:37.906245Z",
     "shell.execute_reply": "2022-06-10T17:59:37.905707Z",
     "shell.execute_reply.started": "2022-02-08T18:34:04.212555Z"
    },
    "papermill": {
     "duration": 0.40125,
     "end_time": "2022-06-10T17:59:37.906402",
     "exception": false,
     "start_time": "2022-06-10T17:59:37.505152",
     "status": "completed"
    },
    "tags": []
   },
   "outputs": [
    {
     "name": "stdout",
     "output_type": "stream",
     "text": [
      "34/34 [==============================] - 0s 1ms/step - loss: 3157.9939 - mae: 3157.9939\n"
     ]
    },
    {
     "data": {
      "text/plain": [
       "[3157.993896484375, 3157.993896484375]"
      ]
     },
     "execution_count": 24,
     "metadata": {},
     "output_type": "execute_result"
    }
   ],
   "source": [
    "model2.evaluate(X_train,y_train)"
   ]
  },
  {
   "cell_type": "code",
   "execution_count": 25,
   "id": "3eb57608",
   "metadata": {
    "execution": {
     "iopub.execute_input": "2022-06-10T17:59:38.183284Z",
     "iopub.status.busy": "2022-06-10T17:59:38.182631Z",
     "iopub.status.idle": "2022-06-10T17:59:38.270167Z",
     "shell.execute_reply": "2022-06-10T17:59:38.270765Z",
     "shell.execute_reply.started": "2022-02-08T18:34:08.374332Z"
    },
    "papermill": {
     "duration": 0.226644,
     "end_time": "2022-06-10T17:59:38.270963",
     "exception": false,
     "start_time": "2022-06-10T17:59:38.044319",
     "status": "completed"
    },
    "tags": []
   },
   "outputs": [
    {
     "name": "stdout",
     "output_type": "stream",
     "text": [
      "9/9 [==============================] - 0s 2ms/step - loss: 2878.9363 - mae: 2878.9363\n"
     ]
    },
    {
     "data": {
      "text/plain": [
       "[2878.936279296875, 2878.936279296875]"
      ]
     },
     "execution_count": 25,
     "metadata": {},
     "output_type": "execute_result"
    }
   ],
   "source": [
    "model2.evaluate(X_test,y_test)"
   ]
  },
  {
   "cell_type": "code",
   "execution_count": 26,
   "id": "d2019086",
   "metadata": {
    "execution": {
     "iopub.execute_input": "2022-06-10T17:59:38.550841Z",
     "iopub.status.busy": "2022-06-10T17:59:38.550146Z",
     "iopub.status.idle": "2022-06-10T17:59:39.734795Z",
     "shell.execute_reply": "2022-06-10T17:59:39.735481Z",
     "shell.execute_reply.started": "2022-02-08T18:38:42.007574Z"
    },
    "papermill": {
     "duration": 1.327653,
     "end_time": "2022-06-10T17:59:39.735720",
     "exception": false,
     "start_time": "2022-06-10T17:59:38.408067",
     "status": "completed"
    },
    "tags": []
   },
   "outputs": [
    {
     "name": "stdout",
     "output_type": "stream",
     "text": [
      "Model: \"sequential\"\n",
      "_________________________________________________________________\n",
      "Layer (type)                 Output Shape              Param #   \n",
      "=================================================================\n",
      "dense (Dense)                (None, 100)               1400      \n",
      "_________________________________________________________________\n",
      "dense_1 (Dense)              (None, 50)                5050      \n",
      "_________________________________________________________________\n",
      "dense_2 (Dense)              (None, 50)                2550      \n",
      "_________________________________________________________________\n",
      "dense_3 (Dense)              (None, 1)                 51        \n",
      "=================================================================\n",
      "Total params: 9,051\n",
      "Trainable params: 9,051\n",
      "Non-trainable params: 0\n",
      "_________________________________________________________________\n"
     ]
    }
   ],
   "source": [
    "from tensorflow.keras.utils import plot_model\n",
    "plot_model(model2,show_shapes = True)\n",
    "model2.summary()"
   ]
  },
  {
   "cell_type": "code",
   "execution_count": 27,
   "id": "09c3f3c6",
   "metadata": {
    "execution": {
     "iopub.execute_input": "2022-06-10T17:59:40.015439Z",
     "iopub.status.busy": "2022-06-10T17:59:40.014405Z",
     "iopub.status.idle": "2022-06-10T17:59:40.197286Z",
     "shell.execute_reply": "2022-06-10T17:59:40.197855Z",
     "shell.execute_reply.started": "2022-02-08T18:49:54.996894Z"
    },
    "papermill": {
     "duration": 0.325249,
     "end_time": "2022-06-10T17:59:40.198027",
     "exception": false,
     "start_time": "2022-06-10T17:59:39.872778",
     "status": "completed"
    },
    "tags": []
   },
   "outputs": [],
   "source": [
    "y_preds = model2.predict(X_test)"
   ]
  },
  {
   "cell_type": "code",
   "execution_count": 28,
   "id": "83063b7d",
   "metadata": {
    "execution": {
     "iopub.execute_input": "2022-06-10T17:59:40.474743Z",
     "iopub.status.busy": "2022-06-10T17:59:40.473762Z",
     "iopub.status.idle": "2022-06-10T17:59:40.492357Z",
     "shell.execute_reply": "2022-06-10T17:59:40.492892Z",
     "shell.execute_reply.started": "2022-02-08T18:50:14.024726Z"
    },
    "papermill": {
     "duration": 0.159144,
     "end_time": "2022-06-10T17:59:40.493062",
     "exception": false,
     "start_time": "2022-06-10T17:59:40.333918",
     "status": "completed"
    },
    "tags": []
   },
   "outputs": [
    {
     "data": {
      "text/plain": [
       "<tf.Tensor: shape=(268,), dtype=float32, numpy=\n",
       "array([ 8597.872 ,  9142.488 , 30056.58  ,  8606.569 , 17548.031 ,\n",
       "        9116.325 , 11288.155 ,  9779.78  ,  9962.428 ,  8717.255 ,\n",
       "       20952.158 ,  8690.125 ,  9788.468 , 27695.938 , 30422.312 ,\n",
       "       27096.938 ,  8719.696 , 26571.703 ,  8595.449 , 23838.172 ,\n",
       "        9254.978 ,  8659.198 , 11671.742 , 10232.232 ,  8846.073 ,\n",
       "        8826.008 ,  9229.948 ,  9134.532 ,  8634.17  , 11982.501 ,\n",
       "        8591.329 ,  9018.6455, 11076.609 ,  9038.636 , 10382.539 ,\n",
       "        8622.344 , 10769.708 ,  8678.415 , 26489.639 , 23161.852 ,\n",
       "        9349.149 , 10580.83  ,  8995.239 ,  9082.41  ,  9283.791 ,\n",
       "        9109.768 ,  9924.856 ,  9605.852 , 25960.887 ,  9445.548 ,\n",
       "        9671.864 , 11577.229 ,  8664.886 , 11488.344 ,  8781.2295,\n",
       "        8696.642 ,  9891.138 , 22509.014 ,  9017.033 ,  8765.197 ,\n",
       "        9609.498 ,  9196.096 ,  9860.538 ,  8606.976 ,  8704.059 ,\n",
       "        9673.342 , 18907.338 ,  8830.49  , 10077.106 , 10658.342 ,\n",
       "        8862.092 ,  8612.399 ,  8593.559 ,  8856.951 ,  8670.021 ,\n",
       "        9267.362 ,  9225.12  ,  8923.244 ,  9560.285 ,  8598.815 ,\n",
       "       11537.277 , 29624.809 ,  9183.43  , 20947.547 , 22219.902 ,\n",
       "       26567.705 ,  9336.796 ,  8779.922 ,  8594.608 ,  8917.816 ,\n",
       "       10270.994 , 29650.932 , 25573.861 ,  9228.743 , 22436.178 ,\n",
       "        8752.214 , 21296.508 , 11265.953 , 20976.816 ,  8843.683 ,\n",
       "        9426.871 , 11422.069 ,  8885.425 ,  9171.551 ,  9381.198 ,\n",
       "       11320.664 ,  8630.085 , 25925.998 , 11632.807 , 26714.162 ,\n",
       "       11504.271 ,  9628.7   ,  9353.453 , 22635.191 ,  8643.637 ,\n",
       "       11028.602 ,  9217.516 , 24659.363 ,  8854.374 , 10543.972 ,\n",
       "        9006.205 ,  8666.439 ,  8969.444 , 10858.684 ,  9391.28  ,\n",
       "        8620.456 ,  8667.527 ,  8602.508 ,  9136.886 , 10564.123 ,\n",
       "        9718.093 ,  8952.329 ,  8955.225 ,  8597.353 ,  9014.176 ,\n",
       "        9156.149 ,  9446.857 , 23820.805 , 25570.312 , 22890.262 ,\n",
       "        9160.215 ,  8661.002 , 10630.799 ,  8920.205 , 10978.724 ,\n",
       "       26108.957 ,  9158.415 ,  9802.927 ,  8964.655 ,  9341.755 ,\n",
       "       29155.22  , 10577.582 , 11144.17  , 22153.395 ,  8760.052 ,\n",
       "        9348.591 ,  9493.41  ,  8589.861 , 18079.854 , 24187.607 ,\n",
       "        9567.828 , 10778.973 , 10020.708 , 10813.075 ,  9944.254 ,\n",
       "        8673.641 , 31192.047 , 28465.123 , 25148.2   , 10562.304 ,\n",
       "        8608.469 ,  8875.702 ,  8800.482 ,  9614.858 , 11049.848 ,\n",
       "       25119.69  , 16875.604 ,  9722.641 , 20474.178 ,  9002.674 ,\n",
       "       30209.377 , 10550.358 ,  8590.253 ,  9232.02  ,  9200.121 ,\n",
       "       10321.989 ,  9660.23  ,  9941.802 ,  8607.83  ,  8775.955 ,\n",
       "        9755.341 , 11086.781 , 10680.73  , 22476.865 ,  9392.167 ,\n",
       "        8612.121 , 10811.126 ,  9062.768 , 11168.806 ,  8594.631 ,\n",
       "       10295.891 , 26317.592 ,  9221.345 , 10668.838 , 17822.248 ,\n",
       "       19165.865 ,  8595.058 ,  9715.72  ,  8597.302 , 10330.192 ,\n",
       "        9393.812 ,  9095.666 ,  8780.914 , 18959.72  ,  8778.436 ,\n",
       "        9610.43  ,  9355.272 ,  9703.175 ,  9305.256 ,  9149.864 ,\n",
       "       10660.541 ,  8669.944 ,  8649.121 , 25836.441 , 10895.127 ,\n",
       "       20190.996 , 11681.677 , 11344.956 ,  8613.2   ,  8932.388 ,\n",
       "       11197.474 ,  8693.8545,  9504.766 , 23855.58  ,  8740.038 ,\n",
       "        8593.285 ,  9746.811 ,  8896.355 , 26047.604 , 11229.854 ,\n",
       "        9541.585 , 21846.465 , 10173.328 , 10161.287 , 11521.18  ,\n",
       "       10394.214 ,  9578.243 ,  9665.79  ,  9546.475 , 11766.79  ,\n",
       "       11253.623 ,  8672.674 , 10227.582 ,  9054.875 , 10623.448 ,\n",
       "       10234.536 ,  9073.723 , 10030.236 ,  8591.533 ,  8836.302 ,\n",
       "        8598.324 ,  9511.314 , 19552.473 , 30643.709 ,  9102.051 ,\n",
       "        8923.948 , 29544.05  ,  8664.464 ], dtype=float32)>"
      ]
     },
     "execution_count": 28,
     "metadata": {},
     "output_type": "execute_result"
    }
   ],
   "source": [
    "tf.metrics.mean_absolute_error(y_true = y_test, y_pred= y_preds)"
   ]
  },
  {
   "cell_type": "code",
   "execution_count": null,
   "id": "92d6e568",
   "metadata": {
    "papermill": {
     "duration": 0.136339,
     "end_time": "2022-06-10T17:59:40.766464",
     "exception": false,
     "start_time": "2022-06-10T17:59:40.630125",
     "status": "completed"
    },
    "tags": []
   },
   "outputs": [],
   "source": []
  },
  {
   "cell_type": "code",
   "execution_count": null,
   "id": "e3ddf797",
   "metadata": {
    "papermill": {
     "duration": 0.13777,
     "end_time": "2022-06-10T17:59:41.040145",
     "exception": false,
     "start_time": "2022-06-10T17:59:40.902375",
     "status": "completed"
    },
    "tags": []
   },
   "outputs": [],
   "source": []
  }
 ],
 "metadata": {
  "kernelspec": {
   "display_name": "Python 3",
   "language": "python",
   "name": "python3"
  },
  "language_info": {
   "codemirror_mode": {
    "name": "ipython",
    "version": 3
   },
   "file_extension": ".py",
   "mimetype": "text/x-python",
   "name": "python",
   "nbconvert_exporter": "python",
   "pygments_lexer": "ipython3",
   "version": "3.7.12"
  },
  "papermill": {
   "default_parameters": {},
   "duration": 41.704282,
   "end_time": "2022-06-10T17:59:44.041498",
   "environment_variables": {},
   "exception": null,
   "input_path": "__notebook__.ipynb",
   "output_path": "__notebook__.ipynb",
   "parameters": {},
   "start_time": "2022-06-10T17:59:02.337216",
   "version": "2.3.3"
  }
 },
 "nbformat": 4,
 "nbformat_minor": 5
}
